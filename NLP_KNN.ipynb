{
  "nbformat": 4,
  "nbformat_minor": 0,
  "metadata": {
    "colab": {
      "provenance": [],
      "authorship_tag": "ABX9TyOdK44DAggbOmMamD/lNMLw",
      "include_colab_link": true
    },
    "kernelspec": {
      "name": "python3",
      "display_name": "Python 3"
    },
    "language_info": {
      "name": "python"
    }
  },
  "cells": [
    {
      "cell_type": "markdown",
      "metadata": {
        "id": "view-in-github",
        "colab_type": "text"
      },
      "source": [
        "<a href=\"https://colab.research.google.com/github/vickyaditia/Personal-Project-NLP-Tourism-Review-Sentiment-Analysis-using-KNN-Multi-Output-Classification/blob/main/NLP_KNN.ipynb\" target=\"_parent\"><img src=\"https://colab.research.google.com/assets/colab-badge.svg\" alt=\"Open In Colab\"/></a>"
      ]
    },
    {
      "cell_type": "code",
      "source": [
        "pip install Sastrawi"
      ],
      "metadata": {
        "colab": {
          "base_uri": "https://localhost:8080/"
        },
        "id": "HLAZeIJh-VIB",
        "outputId": "df5faf4b-fc29-4e1c-bdb3-a21098f34248"
      },
      "execution_count": null,
      "outputs": [
        {
          "output_type": "stream",
          "name": "stdout",
          "text": [
            "Collecting Sastrawi\n",
            "  Downloading Sastrawi-1.0.1-py2.py3-none-any.whl (209 kB)\n",
            "\u001b[2K     \u001b[90m━━━━━━━━━━━━━━━━━━━━━━━━━━━━━━━━━━━━━━━━\u001b[0m \u001b[32m209.7/209.7 kB\u001b[0m \u001b[31m1.7 MB/s\u001b[0m eta \u001b[36m0:00:00\u001b[0m\n",
            "\u001b[?25hInstalling collected packages: Sastrawi\n",
            "Successfully installed Sastrawi-1.0.1\n"
          ]
        }
      ]
    },
    {
      "cell_type": "code",
      "source": [
        "import pandas as pd\n",
        "from sklearn.neighbors import KNeighborsClassifier\n",
        "from sklearn.model_selection import train_test_split, validation_curve, cross_val_score\n",
        "from sklearn.feature_extraction.text import TfidfVectorizer\n",
        "from sklearn.metrics import accuracy_score, classification_report\n",
        "from Sastrawi.StopWordRemover.StopWordRemoverFactory import StopWordRemoverFactory\n",
        "from Sastrawi.Stemmer.StemmerFactory import StemmerFactory\n",
        "from nltk.tokenize import word_tokenize\n",
        "import nltk\n",
        "import re\n",
        "import string\n",
        "import seaborn as sns\n",
        "import matplotlib.pyplot as plt\n",
        "import numpy as np"
      ],
      "metadata": {
        "id": "VhQ_PGnb_rOa"
      },
      "execution_count": null,
      "outputs": []
    },
    {
      "cell_type": "code",
      "source": [
        "nama_file_excel = '/content/dataTA.xlsx'\n",
        "\n",
        "# Membaca data dari file Excel ke dalam DataFrame\n",
        "dataframe = pd.read_excel(nama_file_excel)"
      ],
      "metadata": {
        "id": "iYPmy6RN_yeg"
      },
      "execution_count": null,
      "outputs": []
    },
    {
      "cell_type": "code",
      "source": [
        "dataframe.head(12)"
      ],
      "metadata": {
        "colab": {
          "base_uri": "https://localhost:8080/"
        },
        "id": "NCuQMosLAGDs",
        "outputId": "b446de28-623e-4fe3-e2af-65689359e6f4"
      },
      "execution_count": null,
      "outputs": [
        {
          "output_type": "execute_result",
          "data": {
            "text/plain": [
              "                   Wisata  id  \\\n",
              "0   Aek Rangat Pangururan   1   \n",
              "1   Aek Rangat Pangururan   2   \n",
              "2   Aek Rangat Pangururan   3   \n",
              "3   Aek Rangat Pangururan   4   \n",
              "4   Aek Rangat Pangururan   5   \n",
              "5   Aek Rangat Pangururan   6   \n",
              "6   Aek Rangat Pangururan   7   \n",
              "7   Aek Rangat Pangururan   8   \n",
              "8   Aek Rangat Pangururan   9   \n",
              "9   Aek Rangat Pangururan  10   \n",
              "10  Aek Rangat Pangururan  11   \n",
              "11  Aek Rangat Pangururan  12   \n",
              "\n",
              "                                               Ulasan    Atraksi   Amenitas  \\\n",
              "0   Lokasi pemandian air panas ini wajib dikunjung...  Non Aspek    Positif   \n",
              "1   Kolam pemandiannya ada di setiap warung². Masi...  Non Aspek    Positif   \n",
              "2   tempat yg cukup bagus dan pemandangan alam dan...    Positif    Positif   \n",
              "3   Aek Rangat Pangururan atau air hangat yang ter...    Positif    Positif   \n",
              "4   Air panasnya memang panas tercium bau belerang...    Negatif    Negatif   \n",
              "5   Harus makan dl klo mau mandi air panas yaa!! S...  Non Aspek    Positif   \n",
              "6   Untuk bagian danau indah sangat, akan tetapi d...    Positif    Negatif   \n",
              "7   Kita singgah untuk ngopi dalam perjalanan ke a...    Positif  Non Aspek   \n",
              "8   Tempatnya bagus pemandangannya juga indah , pe...    Positif    Positif   \n",
              "9   Pemandangan yg sangat bagus, sepanjang jalan d...    Positif    Positif   \n",
              "10  Bagus. Kolam nya bisa bua tsekeluarga aja. Ga ...  Non Aspek    Positif   \n",
              "11  Selalu ke sini kalau ke Samosir, tuk menikmati...    Positif    Positif   \n",
              "\n",
              "   Aksesbilitas  \n",
              "0     Non Aspek  \n",
              "1     Non Aspek  \n",
              "2     Non Aspek  \n",
              "3       Negatif  \n",
              "4     Non Aspek  \n",
              "5     Non Aspek  \n",
              "6     Non Aspek  \n",
              "7     Non Aspek  \n",
              "8     Non Aspek  \n",
              "9       Positif  \n",
              "10    Non Aspek  \n",
              "11      Positif  "
            ],
            "text/html": [
              "\n",
              "  <div id=\"df-30907ea9-240c-4dcd-8366-5a352efcbbd4\" class=\"colab-df-container\">\n",
              "    <div>\n",
              "<style scoped>\n",
              "    .dataframe tbody tr th:only-of-type {\n",
              "        vertical-align: middle;\n",
              "    }\n",
              "\n",
              "    .dataframe tbody tr th {\n",
              "        vertical-align: top;\n",
              "    }\n",
              "\n",
              "    .dataframe thead th {\n",
              "        text-align: right;\n",
              "    }\n",
              "</style>\n",
              "<table border=\"1\" class=\"dataframe\">\n",
              "  <thead>\n",
              "    <tr style=\"text-align: right;\">\n",
              "      <th></th>\n",
              "      <th>Wisata</th>\n",
              "      <th>id</th>\n",
              "      <th>Ulasan</th>\n",
              "      <th>Atraksi</th>\n",
              "      <th>Amenitas</th>\n",
              "      <th>Aksesbilitas</th>\n",
              "    </tr>\n",
              "  </thead>\n",
              "  <tbody>\n",
              "    <tr>\n",
              "      <th>0</th>\n",
              "      <td>Aek Rangat Pangururan</td>\n",
              "      <td>1</td>\n",
              "      <td>Lokasi pemandian air panas ini wajib dikunjung...</td>\n",
              "      <td>Non Aspek</td>\n",
              "      <td>Positif</td>\n",
              "      <td>Non Aspek</td>\n",
              "    </tr>\n",
              "    <tr>\n",
              "      <th>1</th>\n",
              "      <td>Aek Rangat Pangururan</td>\n",
              "      <td>2</td>\n",
              "      <td>Kolam pemandiannya ada di setiap warung². Masi...</td>\n",
              "      <td>Non Aspek</td>\n",
              "      <td>Positif</td>\n",
              "      <td>Non Aspek</td>\n",
              "    </tr>\n",
              "    <tr>\n",
              "      <th>2</th>\n",
              "      <td>Aek Rangat Pangururan</td>\n",
              "      <td>3</td>\n",
              "      <td>tempat yg cukup bagus dan pemandangan alam dan...</td>\n",
              "      <td>Positif</td>\n",
              "      <td>Positif</td>\n",
              "      <td>Non Aspek</td>\n",
              "    </tr>\n",
              "    <tr>\n",
              "      <th>3</th>\n",
              "      <td>Aek Rangat Pangururan</td>\n",
              "      <td>4</td>\n",
              "      <td>Aek Rangat Pangururan atau air hangat yang ter...</td>\n",
              "      <td>Positif</td>\n",
              "      <td>Positif</td>\n",
              "      <td>Negatif</td>\n",
              "    </tr>\n",
              "    <tr>\n",
              "      <th>4</th>\n",
              "      <td>Aek Rangat Pangururan</td>\n",
              "      <td>5</td>\n",
              "      <td>Air panasnya memang panas tercium bau belerang...</td>\n",
              "      <td>Negatif</td>\n",
              "      <td>Negatif</td>\n",
              "      <td>Non Aspek</td>\n",
              "    </tr>\n",
              "    <tr>\n",
              "      <th>5</th>\n",
              "      <td>Aek Rangat Pangururan</td>\n",
              "      <td>6</td>\n",
              "      <td>Harus makan dl klo mau mandi air panas yaa!! S...</td>\n",
              "      <td>Non Aspek</td>\n",
              "      <td>Positif</td>\n",
              "      <td>Non Aspek</td>\n",
              "    </tr>\n",
              "    <tr>\n",
              "      <th>6</th>\n",
              "      <td>Aek Rangat Pangururan</td>\n",
              "      <td>7</td>\n",
              "      <td>Untuk bagian danau indah sangat, akan tetapi d...</td>\n",
              "      <td>Positif</td>\n",
              "      <td>Negatif</td>\n",
              "      <td>Non Aspek</td>\n",
              "    </tr>\n",
              "    <tr>\n",
              "      <th>7</th>\n",
              "      <td>Aek Rangat Pangururan</td>\n",
              "      <td>8</td>\n",
              "      <td>Kita singgah untuk ngopi dalam perjalanan ke a...</td>\n",
              "      <td>Positif</td>\n",
              "      <td>Non Aspek</td>\n",
              "      <td>Non Aspek</td>\n",
              "    </tr>\n",
              "    <tr>\n",
              "      <th>8</th>\n",
              "      <td>Aek Rangat Pangururan</td>\n",
              "      <td>9</td>\n",
              "      <td>Tempatnya bagus pemandangannya juga indah , pe...</td>\n",
              "      <td>Positif</td>\n",
              "      <td>Positif</td>\n",
              "      <td>Non Aspek</td>\n",
              "    </tr>\n",
              "    <tr>\n",
              "      <th>9</th>\n",
              "      <td>Aek Rangat Pangururan</td>\n",
              "      <td>10</td>\n",
              "      <td>Pemandangan yg sangat bagus, sepanjang jalan d...</td>\n",
              "      <td>Positif</td>\n",
              "      <td>Positif</td>\n",
              "      <td>Positif</td>\n",
              "    </tr>\n",
              "    <tr>\n",
              "      <th>10</th>\n",
              "      <td>Aek Rangat Pangururan</td>\n",
              "      <td>11</td>\n",
              "      <td>Bagus. Kolam nya bisa bua tsekeluarga aja. Ga ...</td>\n",
              "      <td>Non Aspek</td>\n",
              "      <td>Positif</td>\n",
              "      <td>Non Aspek</td>\n",
              "    </tr>\n",
              "    <tr>\n",
              "      <th>11</th>\n",
              "      <td>Aek Rangat Pangururan</td>\n",
              "      <td>12</td>\n",
              "      <td>Selalu ke sini kalau ke Samosir, tuk menikmati...</td>\n",
              "      <td>Positif</td>\n",
              "      <td>Positif</td>\n",
              "      <td>Positif</td>\n",
              "    </tr>\n",
              "  </tbody>\n",
              "</table>\n",
              "</div>\n",
              "    <div class=\"colab-df-buttons\">\n",
              "\n",
              "  <div class=\"colab-df-container\">\n",
              "    <button class=\"colab-df-convert\" onclick=\"convertToInteractive('df-30907ea9-240c-4dcd-8366-5a352efcbbd4')\"\n",
              "            title=\"Convert this dataframe to an interactive table.\"\n",
              "            style=\"display:none;\">\n",
              "\n",
              "  <svg xmlns=\"http://www.w3.org/2000/svg\" height=\"24px\" viewBox=\"0 -960 960 960\">\n",
              "    <path d=\"M120-120v-720h720v720H120Zm60-500h600v-160H180v160Zm220 220h160v-160H400v160Zm0 220h160v-160H400v160ZM180-400h160v-160H180v160Zm440 0h160v-160H620v160ZM180-180h160v-160H180v160Zm440 0h160v-160H620v160Z\"/>\n",
              "  </svg>\n",
              "    </button>\n",
              "\n",
              "  <style>\n",
              "    .colab-df-container {\n",
              "      display:flex;\n",
              "      gap: 12px;\n",
              "    }\n",
              "\n",
              "    .colab-df-convert {\n",
              "      background-color: #E8F0FE;\n",
              "      border: none;\n",
              "      border-radius: 50%;\n",
              "      cursor: pointer;\n",
              "      display: none;\n",
              "      fill: #1967D2;\n",
              "      height: 32px;\n",
              "      padding: 0 0 0 0;\n",
              "      width: 32px;\n",
              "    }\n",
              "\n",
              "    .colab-df-convert:hover {\n",
              "      background-color: #E2EBFA;\n",
              "      box-shadow: 0px 1px 2px rgba(60, 64, 67, 0.3), 0px 1px 3px 1px rgba(60, 64, 67, 0.15);\n",
              "      fill: #174EA6;\n",
              "    }\n",
              "\n",
              "    .colab-df-buttons div {\n",
              "      margin-bottom: 4px;\n",
              "    }\n",
              "\n",
              "    [theme=dark] .colab-df-convert {\n",
              "      background-color: #3B4455;\n",
              "      fill: #D2E3FC;\n",
              "    }\n",
              "\n",
              "    [theme=dark] .colab-df-convert:hover {\n",
              "      background-color: #434B5C;\n",
              "      box-shadow: 0px 1px 3px 1px rgba(0, 0, 0, 0.15);\n",
              "      filter: drop-shadow(0px 1px 2px rgba(0, 0, 0, 0.3));\n",
              "      fill: #FFFFFF;\n",
              "    }\n",
              "  </style>\n",
              "\n",
              "    <script>\n",
              "      const buttonEl =\n",
              "        document.querySelector('#df-30907ea9-240c-4dcd-8366-5a352efcbbd4 button.colab-df-convert');\n",
              "      buttonEl.style.display =\n",
              "        google.colab.kernel.accessAllowed ? 'block' : 'none';\n",
              "\n",
              "      async function convertToInteractive(key) {\n",
              "        const element = document.querySelector('#df-30907ea9-240c-4dcd-8366-5a352efcbbd4');\n",
              "        const dataTable =\n",
              "          await google.colab.kernel.invokeFunction('convertToInteractive',\n",
              "                                                    [key], {});\n",
              "        if (!dataTable) return;\n",
              "\n",
              "        const docLinkHtml = 'Like what you see? Visit the ' +\n",
              "          '<a target=\"_blank\" href=https://colab.research.google.com/notebooks/data_table.ipynb>data table notebook</a>'\n",
              "          + ' to learn more about interactive tables.';\n",
              "        element.innerHTML = '';\n",
              "        dataTable['output_type'] = 'display_data';\n",
              "        await google.colab.output.renderOutput(dataTable, element);\n",
              "        const docLink = document.createElement('div');\n",
              "        docLink.innerHTML = docLinkHtml;\n",
              "        element.appendChild(docLink);\n",
              "      }\n",
              "    </script>\n",
              "  </div>\n",
              "\n",
              "\n",
              "<div id=\"df-088b4a2e-0d30-4564-abab-a2483242db90\">\n",
              "  <button class=\"colab-df-quickchart\" onclick=\"quickchart('df-088b4a2e-0d30-4564-abab-a2483242db90')\"\n",
              "            title=\"Suggest charts\"\n",
              "            style=\"display:none;\">\n",
              "\n",
              "<svg xmlns=\"http://www.w3.org/2000/svg\" height=\"24px\"viewBox=\"0 0 24 24\"\n",
              "     width=\"24px\">\n",
              "    <g>\n",
              "        <path d=\"M19 3H5c-1.1 0-2 .9-2 2v14c0 1.1.9 2 2 2h14c1.1 0 2-.9 2-2V5c0-1.1-.9-2-2-2zM9 17H7v-7h2v7zm4 0h-2V7h2v10zm4 0h-2v-4h2v4z\"/>\n",
              "    </g>\n",
              "</svg>\n",
              "  </button>\n",
              "\n",
              "<style>\n",
              "  .colab-df-quickchart {\n",
              "      --bg-color: #E8F0FE;\n",
              "      --fill-color: #1967D2;\n",
              "      --hover-bg-color: #E2EBFA;\n",
              "      --hover-fill-color: #174EA6;\n",
              "      --disabled-fill-color: #AAA;\n",
              "      --disabled-bg-color: #DDD;\n",
              "  }\n",
              "\n",
              "  [theme=dark] .colab-df-quickchart {\n",
              "      --bg-color: #3B4455;\n",
              "      --fill-color: #D2E3FC;\n",
              "      --hover-bg-color: #434B5C;\n",
              "      --hover-fill-color: #FFFFFF;\n",
              "      --disabled-bg-color: #3B4455;\n",
              "      --disabled-fill-color: #666;\n",
              "  }\n",
              "\n",
              "  .colab-df-quickchart {\n",
              "    background-color: var(--bg-color);\n",
              "    border: none;\n",
              "    border-radius: 50%;\n",
              "    cursor: pointer;\n",
              "    display: none;\n",
              "    fill: var(--fill-color);\n",
              "    height: 32px;\n",
              "    padding: 0;\n",
              "    width: 32px;\n",
              "  }\n",
              "\n",
              "  .colab-df-quickchart:hover {\n",
              "    background-color: var(--hover-bg-color);\n",
              "    box-shadow: 0 1px 2px rgba(60, 64, 67, 0.3), 0 1px 3px 1px rgba(60, 64, 67, 0.15);\n",
              "    fill: var(--button-hover-fill-color);\n",
              "  }\n",
              "\n",
              "  .colab-df-quickchart-complete:disabled,\n",
              "  .colab-df-quickchart-complete:disabled:hover {\n",
              "    background-color: var(--disabled-bg-color);\n",
              "    fill: var(--disabled-fill-color);\n",
              "    box-shadow: none;\n",
              "  }\n",
              "\n",
              "  .colab-df-spinner {\n",
              "    border: 2px solid var(--fill-color);\n",
              "    border-color: transparent;\n",
              "    border-bottom-color: var(--fill-color);\n",
              "    animation:\n",
              "      spin 1s steps(1) infinite;\n",
              "  }\n",
              "\n",
              "  @keyframes spin {\n",
              "    0% {\n",
              "      border-color: transparent;\n",
              "      border-bottom-color: var(--fill-color);\n",
              "      border-left-color: var(--fill-color);\n",
              "    }\n",
              "    20% {\n",
              "      border-color: transparent;\n",
              "      border-left-color: var(--fill-color);\n",
              "      border-top-color: var(--fill-color);\n",
              "    }\n",
              "    30% {\n",
              "      border-color: transparent;\n",
              "      border-left-color: var(--fill-color);\n",
              "      border-top-color: var(--fill-color);\n",
              "      border-right-color: var(--fill-color);\n",
              "    }\n",
              "    40% {\n",
              "      border-color: transparent;\n",
              "      border-right-color: var(--fill-color);\n",
              "      border-top-color: var(--fill-color);\n",
              "    }\n",
              "    60% {\n",
              "      border-color: transparent;\n",
              "      border-right-color: var(--fill-color);\n",
              "    }\n",
              "    80% {\n",
              "      border-color: transparent;\n",
              "      border-right-color: var(--fill-color);\n",
              "      border-bottom-color: var(--fill-color);\n",
              "    }\n",
              "    90% {\n",
              "      border-color: transparent;\n",
              "      border-bottom-color: var(--fill-color);\n",
              "    }\n",
              "  }\n",
              "</style>\n",
              "\n",
              "  <script>\n",
              "    async function quickchart(key) {\n",
              "      const quickchartButtonEl =\n",
              "        document.querySelector('#' + key + ' button');\n",
              "      quickchartButtonEl.disabled = true;  // To prevent multiple clicks.\n",
              "      quickchartButtonEl.classList.add('colab-df-spinner');\n",
              "      try {\n",
              "        const charts = await google.colab.kernel.invokeFunction(\n",
              "            'suggestCharts', [key], {});\n",
              "      } catch (error) {\n",
              "        console.error('Error during call to suggestCharts:', error);\n",
              "      }\n",
              "      quickchartButtonEl.classList.remove('colab-df-spinner');\n",
              "      quickchartButtonEl.classList.add('colab-df-quickchart-complete');\n",
              "    }\n",
              "    (() => {\n",
              "      let quickchartButtonEl =\n",
              "        document.querySelector('#df-088b4a2e-0d30-4564-abab-a2483242db90 button');\n",
              "      quickchartButtonEl.style.display =\n",
              "        google.colab.kernel.accessAllowed ? 'block' : 'none';\n",
              "    })();\n",
              "  </script>\n",
              "</div>\n",
              "    </div>\n",
              "  </div>\n"
            ]
          },
          "metadata": {},
          "execution_count": 4
        }
      ]
    },
    {
      "cell_type": "code",
      "source": [
        "dataframe = dataframe.dropna()\n",
        "dataframe"
      ],
      "metadata": {
        "colab": {
          "base_uri": "https://localhost:8080/"
        },
        "id": "6a3ShndgqjDS",
        "outputId": "c76c50a3-54ba-4d4c-a93a-c5ebfa7fad19"
      },
      "execution_count": null,
      "outputs": [
        {
          "output_type": "execute_result",
          "data": {
            "text/plain": [
              "                    Wisata    id  \\\n",
              "0    Aek Rangat Pangururan     1   \n",
              "1    Aek Rangat Pangururan     2   \n",
              "2    Aek Rangat Pangururan     3   \n",
              "3    Aek Rangat Pangururan     4   \n",
              "4    Aek Rangat Pangururan     5   \n",
              "..                     ...   ...   \n",
              "995      Air Terjun Efrata   996   \n",
              "996      Air Terjun Efrata   997   \n",
              "997      Air Terjun Efrata   998   \n",
              "998      Air Terjun Efrata   999   \n",
              "999      Air Terjun Efrata  1000   \n",
              "\n",
              "                                                Ulasan    Atraksi   Amenitas  \\\n",
              "0    Lokasi pemandian air panas ini wajib dikunjung...  Non Aspek    Positif   \n",
              "1    Kolam pemandiannya ada di setiap warung². Masi...  Non Aspek    Positif   \n",
              "2    tempat yg cukup bagus dan pemandangan alam dan...    Positif    Positif   \n",
              "3    Aek Rangat Pangururan atau air hangat yang ter...    Positif    Positif   \n",
              "4    Air panasnya memang panas tercium bau belerang...    Negatif    Negatif   \n",
              "..                                                 ...        ...        ...   \n",
              "995           Kereeeen banget Self healing Jalan bagus    Positif  Non Aspek   \n",
              "996  Tiket masuk lima ribu rupiah per orang. Kamar ...  Non Aspek    Positif   \n",
              "997  Perjalanannya luar biasa 👏👏 View nya bagus sep...    Positif    Negatif   \n",
              "998  Kereeenn.... Dari sidamanik ke sini, gak nyese...    Positif    Positif   \n",
              "999  Baik,rental mobil wilayah medan 082175327192 a...  Non Aspek  Non Aspek   \n",
              "\n",
              "    Aksesbilitas  \n",
              "0      Non Aspek  \n",
              "1      Non Aspek  \n",
              "2      Non Aspek  \n",
              "3        Negatif  \n",
              "4      Non Aspek  \n",
              "..           ...  \n",
              "995      Positif  \n",
              "996    Non Aspek  \n",
              "997      Positif  \n",
              "998      Negatif  \n",
              "999    Non Aspek  \n",
              "\n",
              "[1000 rows x 6 columns]"
            ],
            "text/html": [
              "\n",
              "  <div id=\"df-18359e92-fe16-4b51-ae21-de821f6629f5\" class=\"colab-df-container\">\n",
              "    <div>\n",
              "<style scoped>\n",
              "    .dataframe tbody tr th:only-of-type {\n",
              "        vertical-align: middle;\n",
              "    }\n",
              "\n",
              "    .dataframe tbody tr th {\n",
              "        vertical-align: top;\n",
              "    }\n",
              "\n",
              "    .dataframe thead th {\n",
              "        text-align: right;\n",
              "    }\n",
              "</style>\n",
              "<table border=\"1\" class=\"dataframe\">\n",
              "  <thead>\n",
              "    <tr style=\"text-align: right;\">\n",
              "      <th></th>\n",
              "      <th>Wisata</th>\n",
              "      <th>id</th>\n",
              "      <th>Ulasan</th>\n",
              "      <th>Atraksi</th>\n",
              "      <th>Amenitas</th>\n",
              "      <th>Aksesbilitas</th>\n",
              "    </tr>\n",
              "  </thead>\n",
              "  <tbody>\n",
              "    <tr>\n",
              "      <th>0</th>\n",
              "      <td>Aek Rangat Pangururan</td>\n",
              "      <td>1</td>\n",
              "      <td>Lokasi pemandian air panas ini wajib dikunjung...</td>\n",
              "      <td>Non Aspek</td>\n",
              "      <td>Positif</td>\n",
              "      <td>Non Aspek</td>\n",
              "    </tr>\n",
              "    <tr>\n",
              "      <th>1</th>\n",
              "      <td>Aek Rangat Pangururan</td>\n",
              "      <td>2</td>\n",
              "      <td>Kolam pemandiannya ada di setiap warung². Masi...</td>\n",
              "      <td>Non Aspek</td>\n",
              "      <td>Positif</td>\n",
              "      <td>Non Aspek</td>\n",
              "    </tr>\n",
              "    <tr>\n",
              "      <th>2</th>\n",
              "      <td>Aek Rangat Pangururan</td>\n",
              "      <td>3</td>\n",
              "      <td>tempat yg cukup bagus dan pemandangan alam dan...</td>\n",
              "      <td>Positif</td>\n",
              "      <td>Positif</td>\n",
              "      <td>Non Aspek</td>\n",
              "    </tr>\n",
              "    <tr>\n",
              "      <th>3</th>\n",
              "      <td>Aek Rangat Pangururan</td>\n",
              "      <td>4</td>\n",
              "      <td>Aek Rangat Pangururan atau air hangat yang ter...</td>\n",
              "      <td>Positif</td>\n",
              "      <td>Positif</td>\n",
              "      <td>Negatif</td>\n",
              "    </tr>\n",
              "    <tr>\n",
              "      <th>4</th>\n",
              "      <td>Aek Rangat Pangururan</td>\n",
              "      <td>5</td>\n",
              "      <td>Air panasnya memang panas tercium bau belerang...</td>\n",
              "      <td>Negatif</td>\n",
              "      <td>Negatif</td>\n",
              "      <td>Non Aspek</td>\n",
              "    </tr>\n",
              "    <tr>\n",
              "      <th>...</th>\n",
              "      <td>...</td>\n",
              "      <td>...</td>\n",
              "      <td>...</td>\n",
              "      <td>...</td>\n",
              "      <td>...</td>\n",
              "      <td>...</td>\n",
              "    </tr>\n",
              "    <tr>\n",
              "      <th>995</th>\n",
              "      <td>Air Terjun Efrata</td>\n",
              "      <td>996</td>\n",
              "      <td>Kereeeen banget Self healing Jalan bagus</td>\n",
              "      <td>Positif</td>\n",
              "      <td>Non Aspek</td>\n",
              "      <td>Positif</td>\n",
              "    </tr>\n",
              "    <tr>\n",
              "      <th>996</th>\n",
              "      <td>Air Terjun Efrata</td>\n",
              "      <td>997</td>\n",
              "      <td>Tiket masuk lima ribu rupiah per orang. Kamar ...</td>\n",
              "      <td>Non Aspek</td>\n",
              "      <td>Positif</td>\n",
              "      <td>Non Aspek</td>\n",
              "    </tr>\n",
              "    <tr>\n",
              "      <th>997</th>\n",
              "      <td>Air Terjun Efrata</td>\n",
              "      <td>998</td>\n",
              "      <td>Perjalanannya luar biasa 👏👏 View nya bagus sep...</td>\n",
              "      <td>Positif</td>\n",
              "      <td>Negatif</td>\n",
              "      <td>Positif</td>\n",
              "    </tr>\n",
              "    <tr>\n",
              "      <th>998</th>\n",
              "      <td>Air Terjun Efrata</td>\n",
              "      <td>999</td>\n",
              "      <td>Kereeenn.... Dari sidamanik ke sini, gak nyese...</td>\n",
              "      <td>Positif</td>\n",
              "      <td>Positif</td>\n",
              "      <td>Negatif</td>\n",
              "    </tr>\n",
              "    <tr>\n",
              "      <th>999</th>\n",
              "      <td>Air Terjun Efrata</td>\n",
              "      <td>1000</td>\n",
              "      <td>Baik,rental mobil wilayah medan 082175327192 a...</td>\n",
              "      <td>Non Aspek</td>\n",
              "      <td>Non Aspek</td>\n",
              "      <td>Non Aspek</td>\n",
              "    </tr>\n",
              "  </tbody>\n",
              "</table>\n",
              "<p>1000 rows × 6 columns</p>\n",
              "</div>\n",
              "    <div class=\"colab-df-buttons\">\n",
              "\n",
              "  <div class=\"colab-df-container\">\n",
              "    <button class=\"colab-df-convert\" onclick=\"convertToInteractive('df-18359e92-fe16-4b51-ae21-de821f6629f5')\"\n",
              "            title=\"Convert this dataframe to an interactive table.\"\n",
              "            style=\"display:none;\">\n",
              "\n",
              "  <svg xmlns=\"http://www.w3.org/2000/svg\" height=\"24px\" viewBox=\"0 -960 960 960\">\n",
              "    <path d=\"M120-120v-720h720v720H120Zm60-500h600v-160H180v160Zm220 220h160v-160H400v160Zm0 220h160v-160H400v160ZM180-400h160v-160H180v160Zm440 0h160v-160H620v160ZM180-180h160v-160H180v160Zm440 0h160v-160H620v160Z\"/>\n",
              "  </svg>\n",
              "    </button>\n",
              "\n",
              "  <style>\n",
              "    .colab-df-container {\n",
              "      display:flex;\n",
              "      gap: 12px;\n",
              "    }\n",
              "\n",
              "    .colab-df-convert {\n",
              "      background-color: #E8F0FE;\n",
              "      border: none;\n",
              "      border-radius: 50%;\n",
              "      cursor: pointer;\n",
              "      display: none;\n",
              "      fill: #1967D2;\n",
              "      height: 32px;\n",
              "      padding: 0 0 0 0;\n",
              "      width: 32px;\n",
              "    }\n",
              "\n",
              "    .colab-df-convert:hover {\n",
              "      background-color: #E2EBFA;\n",
              "      box-shadow: 0px 1px 2px rgba(60, 64, 67, 0.3), 0px 1px 3px 1px rgba(60, 64, 67, 0.15);\n",
              "      fill: #174EA6;\n",
              "    }\n",
              "\n",
              "    .colab-df-buttons div {\n",
              "      margin-bottom: 4px;\n",
              "    }\n",
              "\n",
              "    [theme=dark] .colab-df-convert {\n",
              "      background-color: #3B4455;\n",
              "      fill: #D2E3FC;\n",
              "    }\n",
              "\n",
              "    [theme=dark] .colab-df-convert:hover {\n",
              "      background-color: #434B5C;\n",
              "      box-shadow: 0px 1px 3px 1px rgba(0, 0, 0, 0.15);\n",
              "      filter: drop-shadow(0px 1px 2px rgba(0, 0, 0, 0.3));\n",
              "      fill: #FFFFFF;\n",
              "    }\n",
              "  </style>\n",
              "\n",
              "    <script>\n",
              "      const buttonEl =\n",
              "        document.querySelector('#df-18359e92-fe16-4b51-ae21-de821f6629f5 button.colab-df-convert');\n",
              "      buttonEl.style.display =\n",
              "        google.colab.kernel.accessAllowed ? 'block' : 'none';\n",
              "\n",
              "      async function convertToInteractive(key) {\n",
              "        const element = document.querySelector('#df-18359e92-fe16-4b51-ae21-de821f6629f5');\n",
              "        const dataTable =\n",
              "          await google.colab.kernel.invokeFunction('convertToInteractive',\n",
              "                                                    [key], {});\n",
              "        if (!dataTable) return;\n",
              "\n",
              "        const docLinkHtml = 'Like what you see? Visit the ' +\n",
              "          '<a target=\"_blank\" href=https://colab.research.google.com/notebooks/data_table.ipynb>data table notebook</a>'\n",
              "          + ' to learn more about interactive tables.';\n",
              "        element.innerHTML = '';\n",
              "        dataTable['output_type'] = 'display_data';\n",
              "        await google.colab.output.renderOutput(dataTable, element);\n",
              "        const docLink = document.createElement('div');\n",
              "        docLink.innerHTML = docLinkHtml;\n",
              "        element.appendChild(docLink);\n",
              "      }\n",
              "    </script>\n",
              "  </div>\n",
              "\n",
              "\n",
              "<div id=\"df-d8bc5827-0f47-480b-a1c4-1a77982f4af0\">\n",
              "  <button class=\"colab-df-quickchart\" onclick=\"quickchart('df-d8bc5827-0f47-480b-a1c4-1a77982f4af0')\"\n",
              "            title=\"Suggest charts\"\n",
              "            style=\"display:none;\">\n",
              "\n",
              "<svg xmlns=\"http://www.w3.org/2000/svg\" height=\"24px\"viewBox=\"0 0 24 24\"\n",
              "     width=\"24px\">\n",
              "    <g>\n",
              "        <path d=\"M19 3H5c-1.1 0-2 .9-2 2v14c0 1.1.9 2 2 2h14c1.1 0 2-.9 2-2V5c0-1.1-.9-2-2-2zM9 17H7v-7h2v7zm4 0h-2V7h2v10zm4 0h-2v-4h2v4z\"/>\n",
              "    </g>\n",
              "</svg>\n",
              "  </button>\n",
              "\n",
              "<style>\n",
              "  .colab-df-quickchart {\n",
              "      --bg-color: #E8F0FE;\n",
              "      --fill-color: #1967D2;\n",
              "      --hover-bg-color: #E2EBFA;\n",
              "      --hover-fill-color: #174EA6;\n",
              "      --disabled-fill-color: #AAA;\n",
              "      --disabled-bg-color: #DDD;\n",
              "  }\n",
              "\n",
              "  [theme=dark] .colab-df-quickchart {\n",
              "      --bg-color: #3B4455;\n",
              "      --fill-color: #D2E3FC;\n",
              "      --hover-bg-color: #434B5C;\n",
              "      --hover-fill-color: #FFFFFF;\n",
              "      --disabled-bg-color: #3B4455;\n",
              "      --disabled-fill-color: #666;\n",
              "  }\n",
              "\n",
              "  .colab-df-quickchart {\n",
              "    background-color: var(--bg-color);\n",
              "    border: none;\n",
              "    border-radius: 50%;\n",
              "    cursor: pointer;\n",
              "    display: none;\n",
              "    fill: var(--fill-color);\n",
              "    height: 32px;\n",
              "    padding: 0;\n",
              "    width: 32px;\n",
              "  }\n",
              "\n",
              "  .colab-df-quickchart:hover {\n",
              "    background-color: var(--hover-bg-color);\n",
              "    box-shadow: 0 1px 2px rgba(60, 64, 67, 0.3), 0 1px 3px 1px rgba(60, 64, 67, 0.15);\n",
              "    fill: var(--button-hover-fill-color);\n",
              "  }\n",
              "\n",
              "  .colab-df-quickchart-complete:disabled,\n",
              "  .colab-df-quickchart-complete:disabled:hover {\n",
              "    background-color: var(--disabled-bg-color);\n",
              "    fill: var(--disabled-fill-color);\n",
              "    box-shadow: none;\n",
              "  }\n",
              "\n",
              "  .colab-df-spinner {\n",
              "    border: 2px solid var(--fill-color);\n",
              "    border-color: transparent;\n",
              "    border-bottom-color: var(--fill-color);\n",
              "    animation:\n",
              "      spin 1s steps(1) infinite;\n",
              "  }\n",
              "\n",
              "  @keyframes spin {\n",
              "    0% {\n",
              "      border-color: transparent;\n",
              "      border-bottom-color: var(--fill-color);\n",
              "      border-left-color: var(--fill-color);\n",
              "    }\n",
              "    20% {\n",
              "      border-color: transparent;\n",
              "      border-left-color: var(--fill-color);\n",
              "      border-top-color: var(--fill-color);\n",
              "    }\n",
              "    30% {\n",
              "      border-color: transparent;\n",
              "      border-left-color: var(--fill-color);\n",
              "      border-top-color: var(--fill-color);\n",
              "      border-right-color: var(--fill-color);\n",
              "    }\n",
              "    40% {\n",
              "      border-color: transparent;\n",
              "      border-right-color: var(--fill-color);\n",
              "      border-top-color: var(--fill-color);\n",
              "    }\n",
              "    60% {\n",
              "      border-color: transparent;\n",
              "      border-right-color: var(--fill-color);\n",
              "    }\n",
              "    80% {\n",
              "      border-color: transparent;\n",
              "      border-right-color: var(--fill-color);\n",
              "      border-bottom-color: var(--fill-color);\n",
              "    }\n",
              "    90% {\n",
              "      border-color: transparent;\n",
              "      border-bottom-color: var(--fill-color);\n",
              "    }\n",
              "  }\n",
              "</style>\n",
              "\n",
              "  <script>\n",
              "    async function quickchart(key) {\n",
              "      const quickchartButtonEl =\n",
              "        document.querySelector('#' + key + ' button');\n",
              "      quickchartButtonEl.disabled = true;  // To prevent multiple clicks.\n",
              "      quickchartButtonEl.classList.add('colab-df-spinner');\n",
              "      try {\n",
              "        const charts = await google.colab.kernel.invokeFunction(\n",
              "            'suggestCharts', [key], {});\n",
              "      } catch (error) {\n",
              "        console.error('Error during call to suggestCharts:', error);\n",
              "      }\n",
              "      quickchartButtonEl.classList.remove('colab-df-spinner');\n",
              "      quickchartButtonEl.classList.add('colab-df-quickchart-complete');\n",
              "    }\n",
              "    (() => {\n",
              "      let quickchartButtonEl =\n",
              "        document.querySelector('#df-d8bc5827-0f47-480b-a1c4-1a77982f4af0 button');\n",
              "      quickchartButtonEl.style.display =\n",
              "        google.colab.kernel.accessAllowed ? 'block' : 'none';\n",
              "    })();\n",
              "  </script>\n",
              "</div>\n",
              "    </div>\n",
              "  </div>\n"
            ]
          },
          "metadata": {},
          "execution_count": 5
        }
      ]
    },
    {
      "cell_type": "markdown",
      "source": [
        "#Preprocessing Data"
      ],
      "metadata": {
        "id": "Ui2xnHjYyfpA"
      }
    },
    {
      "cell_type": "markdown",
      "source": [
        "**Proses Case Folding**"
      ],
      "metadata": {
        "id": "THBkgMQi0BZA"
      }
    },
    {
      "cell_type": "code",
      "source": [
        "# proses case folding\n",
        "def casefolding(Ulasan):\n",
        "    Ulasan = Ulasan.lower()\n",
        "    return Ulasan\n",
        "datac= dataframe['Ulasan'].apply(casefolding)\n",
        "datac.head()"
      ],
      "metadata": {
        "colab": {
          "base_uri": "https://localhost:8080/"
        },
        "id": "yWX76j_Zyk5o",
        "outputId": "f84c2c0f-62cf-4848-8810-947ac3917c51"
      },
      "execution_count": null,
      "outputs": [
        {
          "output_type": "execute_result",
          "data": {
            "text/plain": [
              "0    lokasi pemandian air panas ini wajib dikunjung...\n",
              "1    kolam pemandiannya ada di setiap warung². masi...\n",
              "2    tempat yg cukup bagus dan pemandangan alam dan...\n",
              "3    aek rangat pangururan atau air hangat yang ter...\n",
              "4    air panasnya memang panas tercium bau belerang...\n",
              "Name: Ulasan, dtype: object"
            ]
          },
          "metadata": {},
          "execution_count": 6
        }
      ]
    },
    {
      "cell_type": "markdown",
      "source": [
        "**Proses Cleansing**"
      ],
      "metadata": {
        "id": "ZKSCdRwz0GTx"
      }
    },
    {
      "cell_type": "code",
      "source": [
        "def cleansing(Ulasan):\n",
        "    Ulasan = Ulasan.strip(\" \")\n",
        "    # Tidak menyertakan karakter emotikon dalam whitelist\n",
        "    Ulasan = re.sub(rf'[^{string.ascii_letters}0-9\\s]', '', Ulasan)\n",
        "    Ulasan = re.sub(r'\\d+', '', Ulasan)\n",
        "    Ulasan = re.sub(r\"\\b[a-zA-Z]\\b\", \"\", Ulasan)\n",
        "    Ulasan = re.sub('\\s+',' ', Ulasan)\n",
        "    Ulasan = re.sub(r'[.,!?\"\\'():;]|😁', ' ', Ulasan)\n",
        "    Ulasan = re.sub(r'\\b(\\w+)\\s+\\1\\b', r'\\1', Ulasan)\n",
        "    # Menghapus kata \"nya\"\n",
        "    Ulasan = re.sub(r'\\bnya\\b', '', Ulasan)\n",
        "    Ulasan = re.sub(r'\\bpondok\\b', '', Ulasan)\n",
        "    Ulasan = re.sub(r'\\blah\\b', '', Ulasan)\n",
        "\n",
        "    return Ulasan\n",
        "datacn= datac.apply(cleansing)\n",
        "datacn.head()"
      ],
      "metadata": {
        "colab": {
          "base_uri": "https://localhost:8080/"
        },
        "id": "6M1rGPSLye7X",
        "outputId": "162e2947-f03c-48d6-bb2b-a226ea0364f9"
      },
      "execution_count": null,
      "outputs": [
        {
          "output_type": "execute_result",
          "data": {
            "text/plain": [
              "0    lokasi pemandian air panas ini wajib dikunjung...\n",
              "1    kolam pemandiannya ada di setiap warung masing...\n",
              "2    tempat yg cukup bagus dan pemandangan alam dan...\n",
              "3    aek rangat pangururan atau air hangat yang ter...\n",
              "4    air panasnya memang panas tercium bau belerang...\n",
              "Name: Ulasan, dtype: object"
            ]
          },
          "metadata": {},
          "execution_count": 7
        }
      ]
    },
    {
      "cell_type": "code",
      "source": [
        "datacn.to_csv('data_cleaning.csv', index=False)"
      ],
      "metadata": {
        "id": "haCSsq-7zoA1"
      },
      "execution_count": null,
      "outputs": []
    },
    {
      "cell_type": "markdown",
      "source": [
        "**Proses Normalisasi Data**"
      ],
      "metadata": {
        "id": "l5t44dOL4gSZ"
      }
    },
    {
      "cell_type": "code",
      "source": [
        "import kamuss\n",
        "kamuse = kamuss.kamusku()\n",
        "print(kamuse)"
      ],
      "metadata": {
        "colab": {
          "base_uri": "https://localhost:8080/"
        },
        "id": "IOOAIFYrz87m",
        "outputId": "9b33ca7d-4601-423c-9564-4782052cb558"
      },
      "execution_count": null,
      "outputs": [
        {
          "output_type": "stream",
          "name": "stdout",
          "text": [
            "{' affordable': ' terjangkau ', ' area ': ' wilayah ', ' ases ': ' akses ', ' awesome ': ' luar biasa ', ' charger ': ' pengisi daya ', ' challenging ': ' menantang ', 'areanya ': ' wilayahnya ', ' enthausiastic ': ' antusias ', ' atraktf ': ' atraktif ', ' beach ': ' pantai ', ' but ': ' tapi ', ' booking': ' pesan ', ' banaboat ': ' banana boat', ' budget ': ' anggaran ', ' camp ': ' kemah ', ' camping ': ' kemah ', ' direkomendasikan': ' disarankan ', ' merekomendasikan ': ' disarankan ', ' rekomended ': ' disarankan ', ' jogging ': ' jalan ', ' favorit ': ' juara ', ' favorite ': ' juara ', ' fav ': ' juara ', 'free ': ' gratis ', ' guys ': ' teman-teman ', 'good ': ' bagus ', ' good ': ' bagus ', ' guide ': ' pemandu ', '  guidenya': ' pemandunya ', ' gomestay ': ' penginapan ', ' guidance ': ' panduan ', ' no ': ' tidak ', ' resort ': ' tempat istirahat ', ' ratingan ': ' penilaian ', ' hotel ': ' penginapan ', ' hotelnya ': ' penginapannya ', ' hospitalitynya ': ' keramahannya ', ' hot ': ' panas ', ' happy ': ' senang ', ' historis ': ' cerita ', ' history ': ' cerita ', ' hotspring ': ' air panas ', ' caffe ': ' kafe ', ' owner ': ' pemilik ', ' opsi ': ' memilih ', ' natural ': ' alami ', ' nexttime ': ' selanjutnya ', ' mess ': ' penginapan ', ' minim ': ' sedikit ', 'Mantaff ': ' mantap ', ' obyek ': ' tempat ', ' local ': ' lokal ', ' private ': ' pribadi ', ' prokes ': ' protokol kesehatan ', ' pandemic ': ' pandemi ', ' prewed ': ' foto pranikah ', ' pool ': ' kolam ', ' plus ': ' tambah ', ' privat ': ' pribadi ', ' photo ': ' foto ', 'recommended ': ' disarankan ', ' Recomended ': ' disarankan ', ' rekomendasi ': ' disarankan ', ' direkomendasikan ': ' disarankan ', ' rekomendasikan ': ' disarankan ', ' recommended ': ' disarankan ', ' rekomen ': ' disarankan ', ' rekomenlah': ' disarankan ', ' rekomendasi': ' disarankan ', ' restoran ': ' tempat makan ', ' renovasinya ': ' dibenahinya ', ' studytour ': ' belajar ', ' Sooo ': ' jadi ', ' so ': ' jadi ', ' spot ': ' tempat ', 'spotnya ': ' tempatnya ', ' spy ': ' supaya ', ' selfi ': ' foto ', ' Sunrisenya ': ' matahari terbitnya ', ' souvenir ': ' suvenir ', ' shoping ': ' belanja ', ' show ': ' menunjukkan ', ' standart ': ' standar ', ' sun rise': ' matahari terbit ', ' sunset ': ' matahari terbenam ', ' traveler ': ' wisatawan ', ' tour ': ' wisata ', ' tour guide ': ' pemandu wisata ', ' upgrade ': ' tingkat ', ' view ': ' pemandangan ', ' viewnya ': ' pemandangan ', 'viewnya ': ' pemandangan ', 'view ': ' pemandangan ', ' very ': ' sangat ', ' resto ': ' tempat makan ', ' weekday  ': ' hari kerja ', ' insightful ': ' wawasan ', ' insight ': ' wawasan ', ' png ': ' foto ', ' Fotographer ': ' Fotografer ', ' touring ': ' tur ', ' restauran ': ' tempat makan ', '  ngecamp ': ' kemah ', ' homestay ': ' penginapan ', ' weekend': ' akhir pekan ', ' info ': ' informasi ', ' list ': ' daftar ', '  googlemaps ': ' peta ', ' ekstra ': ' penuh ', ' top': ' mantap ', ' unreal ': ' tidak nyata ', ' real ': ' nyata ', ' worth it  ': ' layak ', ' stamina ': ' tenaga ', ' ngecamp ': ' kemah ', ' capek ': ' cape ', ' htm ': ' harga tiket masuk ', ' lbh ': ' lebih ', ' smua ': ' semua ', ' agk ': ' cukup ', ' dsana': ' disana ', ' memvuat ': ' membuat ', ' hiking ': ' mendaki ', 'trekkingnya ': ' jalan tempuhnya ', ' hidden gems ': ' keindahan tersembunyi ', ' indoor ': ' dalam ruangan ', ' fantastis ': ' luar biasa ', ' trip ': ' perjalanan ', 'amazing ': ' luar biasa ', ' refresh ': ' segar ', 'best view ': ' tempat bagus ', ' fullday ': ' seharian ', ' super ': ' sangat ', ' hobby ': ' kesukaan ', ' effort ': ' usaha ', ' please ': ' tolong ', ' background ': ' latar ', ' filing ': ' perasaan ', ' ngecampnya ': ' kemah ', ' amazing ': ' luar biasa ', ' pra ': ' sebelum ', ' refreshing ': ' segar ', ' ngecamp': ' kemah ', ' registrasi ': ' daftar ', ' lake ': ' danau ', ' plank ': ' papan ', ' waterfall ': ' air terjun ', ' paving block ': ' bata beton ', ' cashless': ' tanpa uang tunai ', ' minus ': ' kurang ', ' duit ': ' duit ', 'entry ': ' masuk ', ' training ': ' pelatihan ', ' recommended destination': ' destinasi disarankan ', ' memory ': ' kenangan ', ' self healing ': ' penyembuhan diri ', ' worth': ' layak ', ' alternatif ': ' pilihan lain ', ' lht ': ' lihat ', ' nggak ': ' tidak ', ' ad ': ' ada ', ' asyik ': ' asik ', ' atw ': ' atau ', ' ank ': ' anak ', ' agak ': ' cukup ', ' mantaf': ' mantap ', 'klo ': ' kalau ', ' tpi ': ' tapi ', '  bernuat ': ' berbuat ', ' bg ': ' bagi ', ' sumpa ': ' sumpaph ', ' bsgus ': ' bagus ', 'baguss': ' bagus ', ' bngt ': ' banget ', ' burur ': ' buruk ', 'bnyk ': ' banyak ', ' baguss ': ' bagus ', ' bising ': ' berisik ', ' bs ': ' bisa ', ' batax ': ' batak ', ' balek ': ' balik ', ' bgt ': ' banget ', ' tpt ': ' tempat ', ' dket ': ' deket ', 'kereeeen ': ' keren ', ' dr ': ' dari ', ' jln ': ' jalan ', ' kab ': ' kabupaten ', ' tmpt ': ' tempat ', ' berselfie ': ' berfoto ', ' selfie ': ' foto ', ' jalab ': ' jalan ', 'bgs ': ' bagus ', ' bgs ': ' bagus ', ' baguuus': ' bagus ', ' byk ': ' banyak ', ' bru ': ' baru ', ' bsa ': ' bisa ', ' cuan ': ' untung ', ' certira ': ' cerita ', ' crita ': ' cerita ', ' Cm ': ' cuma ', ' cm ': ' cuma ', ' canteekk ': ' cantik ', ' dtang ': ' datang ', ' drpd ': ' daripada ', ' doyan ': ' suka ', ' dl ': ' dulu ', ' dmana ': ' dimana ', ' dlu ': ' dulu ', ' map ': ' maaf ', ' ngaco ': ' aneh ', ' dn  ': ' dan ', ' dri ': ' dari ', ' dgn ': ' dengan ', ' dg ': ' dengan ', ' dlm ': ' dalam ', ' Dng ': ' dengan ', ' dpt ': ' dapat ', 'dgn ': ' dengan ', 'dsni ': ' disini ', ' disuguhi ': ' disaji ', ' dng ': ' dengan ', ' dtng ': ' datang ', ' ga ': ' tidak ', ' gak ': ' tidak ', ' enggak ': ' tidak ', ' ngak ': ' tidak ', ' gt ': ' gitu ', ' gampang ': ' mudah ', ' gede ': ' besar ', ' hrs ': ' harus ', ' hrga ': ' harga ', ' hmpir ': ' hampir ', ' hasrat ': ' keinginan ', ' haraus ': ' harus ', ' hrga  ': ' harga ', ' hrus ': ' harus ', ' ilang ': ' hilang ', ' jg ': ' juga ', ' jugak ': ' juga ', ' jd ': ' jadi ', ' jgn ': ' jangan ', ' pelancong ': ' bertamasya ', 'pemdangan ': ' pemandangan ', ' rb ': ' ribu ', ' rp ': ' rupiah ', ' ksna ': ' kesana ', ' kl ': ' kalau ', ' klau ': ' kalau ', ' klo ': ' kalau ', ' kalo ': ' kalau ', 'kalo ': ' kalau ', ' krg ': ' kurang ', ' knp ': ' kenapa ', ' kpd ': ' kepada ', ' karna ': ' karena ', ' krna ': ' karena ', ' kayak ': ' seperti ', ' kayaknya ': ' sepertinya ', ' klg ': ' keluarga ', 'kaya ': ' seperti ', ' klw ': ' kalau ', ' krn ': ' karena ', 'lokasih ': ' lokasi ', ' lbih ': ' lebih ', ' lt ': ' lantai ', ' lg ': ' lagi ', ' poto ': ' foto ', ' stlh ': ' setelah ', 'msh ': ' masih ', ' mlm ': ' malam ', ' mhn ': ' mohon ', ' msih ': ' masih ', ' mao ': ' mau ', 'mantabs ': ' mantap ', 'mantapp ': ' mantap ', ' msh ': ' masih ', ' mkn ': ' makan ', ' mngkin ': ' mungkin ', ' msk ': ' masuk ', ' mantablah ': ' mantaplah ', ' maen ': ' main ', ' mreka ': ' mereka ', ' ngk ': ' tidak ', ' nggk ': ' tidak ', ' objek ': ' tempat ', ' enggk ': ' tidak ', ' org ': ' orang ', ' yg ': ' yang ', ' pasilitas ': ' fasilitas ', ' pol ': ' banget ', ' sdh ': ' sudah ', ' shg  ': ' sebagai ', ' skrng ': ' sekarang ', ' spt ': ' seperti ', ' sy ': ' saya ', ' sya ': ' saya ', ' sperti ': ' seperti ', ' sbg ': ' sebagai ', ' sibgkat ': ' singkat ', '  seruh  ': ' seru ', ' sdg ': ' sedang ', ' tmpat ': ' tempat ', ' tmp ': ' tempat ', ' td ': ' tadi ', ' tp ': ' tapi ', ' ttp ': ' tetap ', ' tsb ': ' tersebut ', ' tdk ': ' tidak ', ' tak ': ' tidak ', ' tiadak ': ' tidak ', ' tlng ': ' tolong ', ' ttg ': ' tentang ', ' tu ': ' itu ', ' trus ': ' terus ', ' tuk ': ' untuk ', 'utk ': ' untuk ', ' trlalu ': ' terlalu ', ' utk ': ' untuk ', ' untk  ': ' untuk ', ' tiada ': ' tidak ada ', 'terbhaiqq ': ' terbaik ', ' pdhl ': ' padahal ', 'tenpatnya ': ' tempatnya ', ' ttng ': ' tentang ', ' yaa ': ' ya ', ' sumut ': ' sumatera utara ', ' orng ': ' orang ', ' istrimewa ': ' spesial ', ' diliht ': ' dilihat ', ' Pasilitas ': ' fasilitas ', ' inap ': ' nginap ', '  wiaatawan ': ' wisatawan ', ' masinh ': ' masing ', ' sndri ': ' sendiri ', '  dngn ': ' dengan ', ' cmn ': ' cuman ', ' pr ': ' tugas ', ' ujuan ': ' tujuan ', ' unt ': ' untuk ', ' teros ': ' terus ', ' syg ': ' sayang ', ' sdkt ': ' sedikit ', ' ndk ': ' tidak ', ' ckp ': ' cukup ', ' infah': ' indah ', ' masi ': ' masih ', ' trll ': ' terlalu ', ' naek ': ' naik ', ' lgsg ': ' langsung ', ' gk ': ' tidak ', ' pigi ': ' pergi ', 'kerenn ': ' keren ', ' gadak ': ' tidak ada ', 'kereeenn ': ' keren '}\n"
          ]
        }
      ]
    },
    {
      "cell_type": "code",
      "source": [
        "def replace_all(text, dic):\n",
        "    for i, j in dic.items():\n",
        "        text = text.replace(i, j)\n",
        "    return text\n",
        "def normalisasi(dt):\n",
        "    dt = replace_all(dt, kamuse)\n",
        "    return dt\n",
        "\n",
        "datacnf = datacn.apply(normalisasi)"
      ],
      "metadata": {
        "id": "oiYnA68R4qJP"
      },
      "execution_count": null,
      "outputs": []
    },
    {
      "cell_type": "code",
      "source": [
        "datacnf.head(45)"
      ],
      "metadata": {
        "colab": {
          "base_uri": "https://localhost:8080/"
        },
        "id": "TPsqIxCkNA7c",
        "outputId": "ce169385-ca07-447c-eca5-c12f7375f783"
      },
      "execution_count": null,
      "outputs": [
        {
          "output_type": "execute_result",
          "data": {
            "text/plain": [
              "0     lokasi pemandian air panas ini wajib dikunjung...\n",
              "1     kolam pemandiannya ada di setiap warung masing...\n",
              "2     tempat yang cukup bagus dan pemandangan alam d...\n",
              "3     aek rangat pangururan atau air hangat yang ter...\n",
              "4     air panasnya memang panas tercium bau belerang...\n",
              "5     harus makan dulu  kalau mau mandi air panas ya...\n",
              "6     untuk bagian danau indah sangat akan tetapi di...\n",
              "7     kita singgah untuk ngopi dalam perjalanan ke a...\n",
              "8     tempatnya bagus pemandangannya juga indah pela...\n",
              "9     pemandangan yang sangat bagus sepanjang jalan ...\n",
              "10    bagus kolam  bisa bua tsekeluarga aja tidak ca...\n",
              "11    selalu ke sini kalau ke samosir untuk menikmat...\n",
              "12    selain di sipoholon tarutung pemandian air han...\n",
              "13    masuk kekolam pemandian tidak bayar cukup deng...\n",
              "14    pemandian aek rangat usaha kita juara keluarga...\n",
              "15    salah satu tempat wisata yang wajib dicoba pel...\n",
              "16    kolam mandi laki dan perempuan terpisahada jug...\n",
              "17    opsi pilihan lain  untuk menikmati pemandian a...\n",
              "18    tempat wisata baru untuk dikunjungi di daerah ...\n",
              "19    kolam untuk umum gratis tapi kita diharuskan b...\n",
              "20    air hangatnya pasmandi di kolam keluarga bayar...\n",
              "21    mandi tapi tidak pesan makanminum bayar jualan...\n",
              "22    pemandian air panas namun tidak terlalu menyen...\n",
              "23    pemandiannya cukup terawat dan sangat disarank...\n",
              "24    tempat pemandian air hangat setiap rumah pengi...\n",
              "25    sebenarnya tidak banyak perubahan seperti tahu...\n",
              "26    tidak semua tempat pemandian ada kolam keluarg...\n",
              "27    tempatnya tenang daerah sekolah tingkat sd dan...\n",
              "28    tempatnya rata bagus banyak menyediakan makana...\n",
              "29    sangat bagus pemandangannya tempat ini cocok u...\n",
              "30    pemandian air rangat menjadi salah satu penari...\n",
              "31    oke saja kalau untuk pemandian panas sih aku t...\n",
              "32         pemandangan bagus ada pemandian air panasnya\n",
              "33    sangat bagus untuk tempat refleksi pemandangan...\n",
              "34    si paling bagus pemandian air panasnya telur r...\n",
              "35    mengesankan dan selalu ingin kembali di karena...\n",
              "36    tempat pemandiannya nyaman terbagi kolam wanit...\n",
              "37    pemandangannya indah tapi ketemunya sama orang...\n",
              "38          mandi air panasnya mantap pemandangan bagus\n",
              "39    keren banget yang mau berkunjung silahkan temp...\n",
              "40    mampir di tempat makan yang ada air hangatnya ...\n",
              "41    tempat yang bagus dengan dua kolam air panas b...\n",
              "42    pemandangan dengan panorama danau juga terdapa...\n",
              "43    kamar mandinya tidak ada gayung jadi bau untuk...\n",
              "44    kawasan wisata yang di dalamnya terdapat peman...\n",
              "Name: Ulasan, dtype: object"
            ]
          },
          "metadata": {},
          "execution_count": 11
        }
      ]
    },
    {
      "cell_type": "markdown",
      "source": [
        "**Proses Stopremoval**"
      ],
      "metadata": {
        "id": "tCQBisLN4w6n"
      }
    },
    {
      "cell_type": "code",
      "source": [
        "def stop_removal(dt):\n",
        "    factory = StopWordRemoverFactory()\n",
        "    stopword = factory.create_stop_word_remover()\n",
        "    dt = stopword.remove(dt)\n",
        "    return dt\n",
        "    # proses stopword removal\n",
        "datacnft = datacnf.apply(stop_removal)\n",
        "datacnft.head()"
      ],
      "metadata": {
        "colab": {
          "base_uri": "https://localhost:8080/"
        },
        "id": "lml79iMA41gO",
        "outputId": "158b69ba-91f4-4c7e-8ffd-c76bb80321a7"
      },
      "execution_count": null,
      "outputs": [
        {
          "output_type": "execute_result",
          "data": {
            "text/plain": [
              "0    lokasi pemandian air panas wajib dikunjungi bi...\n",
              "1    kolam pemandiannya warung masing ukurannya xm ...\n",
              "2    tempat cukup bagus pemandangan alam danau toba...\n",
              "3    aek rangat pangururan air hangat terletak pang...\n",
              "4    air panasnya memang panas tercium bau belerang...\n",
              "Name: Ulasan, dtype: object"
            ]
          },
          "metadata": {},
          "execution_count": 12
        }
      ]
    },
    {
      "cell_type": "markdown",
      "source": [
        "**Proses Stem**"
      ],
      "metadata": {
        "id": "GOxMfelm5FOa"
      }
    },
    {
      "cell_type": "code",
      "source": [
        "factory = StemmerFactory()\n",
        "stemmer = factory.create_stemmer()\n",
        "\n",
        "def stemming(dt):\n",
        "    dt = stemmer.stem(str(dt))\n",
        "    return dt\n",
        "\n",
        "datacnfts = datacnft.apply(stemming)"
      ],
      "metadata": {
        "id": "WsdkPTBP5EaI"
      },
      "execution_count": null,
      "outputs": []
    },
    {
      "cell_type": "code",
      "source": [
        "datacnfts.iloc[1:100]"
      ],
      "metadata": {
        "colab": {
          "base_uri": "https://localhost:8080/"
        },
        "id": "Vz_ih1-Naqy5",
        "outputId": "6998d755-a677-428e-f703-1d6595121c43"
      },
      "execution_count": null,
      "outputs": [
        {
          "output_type": "execute_result",
          "data": {
            "text/plain": [
              "1     kolam mandi warung masing ukur xm harga varias...\n",
              "2     tempat cukup bagus pandang alam danau toba beg...\n",
              "3     aek rangat pangururan air hangat letak panguru...\n",
              "4     air panas memang panas cium bau belerang kolam...\n",
              "5     makan dulu kalau mau mandi air panas saya maka...\n",
              "                            ...                        \n",
              "95    tempat sangat tarik cukup beli makan minum dap...\n",
              "96    kolam kurang tarik tidak ikut jaman sayang sek...\n",
              "97    segeeerr mandi air panas tiket masuk orang dew...\n",
              "98                pandang bagus banget pilih menu batas\n",
              "99    pandang indah ramah lingkungancocok daerah wisata\n",
              "Name: Ulasan, Length: 99, dtype: object"
            ]
          },
          "metadata": {},
          "execution_count": 14
        }
      ]
    },
    {
      "cell_type": "code",
      "source": [
        "nltk.download('punkt')"
      ],
      "metadata": {
        "id": "L1YYyquL6U5y",
        "colab": {
          "base_uri": "https://localhost:8080/"
        },
        "outputId": "fd999c23-6909-423f-d589-5badc477580f"
      },
      "execution_count": null,
      "outputs": [
        {
          "output_type": "stream",
          "name": "stderr",
          "text": [
            "[nltk_data] Downloading package punkt to /root/nltk_data...\n",
            "[nltk_data]   Unzipping tokenizers/punkt.zip.\n"
          ]
        },
        {
          "output_type": "execute_result",
          "data": {
            "text/plain": [
              "True"
            ]
          },
          "metadata": {},
          "execution_count": 15
        }
      ]
    },
    {
      "cell_type": "code",
      "source": [
        "def word_tokenize_wrapper(text):\n",
        " return word_tokenize(text)\n",
        "datacnftsx = datacnfts.apply(word_tokenize_wrapper)\n",
        "datacnftsx.head()"
      ],
      "metadata": {
        "colab": {
          "base_uri": "https://localhost:8080/"
        },
        "id": "_IVBS3LQ6KHJ",
        "outputId": "e539c8f0-835f-419f-c0f3-ee5436bfc36e"
      },
      "execution_count": null,
      "outputs": [
        {
          "output_type": "execute_result",
          "data": {
            "text/plain": [
              "0    [lokasi, mandi, air, panas, wajib, kunjung, bi...\n",
              "1    [kolam, mandi, warung, masing, ukur, xm, harga...\n",
              "2    [tempat, cukup, bagus, pandang, alam, danau, t...\n",
              "3    [aek, rangat, pangururan, air, hangat, letak, ...\n",
              "4    [air, panas, memang, panas, cium, bau, beleran...\n",
              "Name: Ulasan, dtype: object"
            ]
          },
          "metadata": {},
          "execution_count": 16
        }
      ]
    },
    {
      "cell_type": "code",
      "source": [
        "hasilprapro = pd.DataFrame({ 'Ulasan' : datacnftsx , 'Atraksi' : dataframe['Atraksi'], 'Amenitas' : dataframe['Amenitas'], 'Aksesbilitas' : dataframe['Aksesbilitas']})"
      ],
      "metadata": {
        "id": "IOOASMTi6ivC"
      },
      "execution_count": null,
      "outputs": []
    },
    {
      "cell_type": "code",
      "source": [
        "hasilprapro"
      ],
      "metadata": {
        "colab": {
          "base_uri": "https://localhost:8080/"
        },
        "id": "h-s7zwIS68wh",
        "outputId": "4023b73c-b1f6-4360-bbd0-715cb9511924"
      },
      "execution_count": null,
      "outputs": [
        {
          "output_type": "execute_result",
          "data": {
            "text/plain": [
              "                                                Ulasan    Atraksi   Amenitas  \\\n",
              "0    [lokasi, mandi, air, panas, wajib, kunjung, bi...  Non Aspek    Positif   \n",
              "1    [kolam, mandi, warung, masing, ukur, xm, harga...  Non Aspek    Positif   \n",
              "2    [tempat, cukup, bagus, pandang, alam, danau, t...    Positif    Positif   \n",
              "3    [aek, rangat, pangururan, air, hangat, letak, ...    Positif    Positif   \n",
              "4    [air, panas, memang, panas, cium, bau, beleran...    Negatif    Negatif   \n",
              "..                                                 ...        ...        ...   \n",
              "995        [keren, banget, sembuh, diri, jalan, bagus]    Positif  Non Aspek   \n",
              "996  [tiket, masuk, lima, ribu, rupiah, per, orang,...  Non Aspek    Positif   \n",
              "997  [jalan, luar, biasa, pandang, bagus, panjang, ...    Positif    Negatif   \n",
              "998  [keren, sidamanik, sini, nyesel, cape, emang, ...    Positif    Positif   \n",
              "999  [baikrental, mobil, wilayah, medan, ig, aldire...  Non Aspek  Non Aspek   \n",
              "\n",
              "    Aksesbilitas  \n",
              "0      Non Aspek  \n",
              "1      Non Aspek  \n",
              "2      Non Aspek  \n",
              "3        Negatif  \n",
              "4      Non Aspek  \n",
              "..           ...  \n",
              "995      Positif  \n",
              "996    Non Aspek  \n",
              "997      Positif  \n",
              "998      Negatif  \n",
              "999    Non Aspek  \n",
              "\n",
              "[1000 rows x 4 columns]"
            ],
            "text/html": [
              "\n",
              "  <div id=\"df-71865bfa-93e0-400e-8d8d-579e4bab7944\" class=\"colab-df-container\">\n",
              "    <div>\n",
              "<style scoped>\n",
              "    .dataframe tbody tr th:only-of-type {\n",
              "        vertical-align: middle;\n",
              "    }\n",
              "\n",
              "    .dataframe tbody tr th {\n",
              "        vertical-align: top;\n",
              "    }\n",
              "\n",
              "    .dataframe thead th {\n",
              "        text-align: right;\n",
              "    }\n",
              "</style>\n",
              "<table border=\"1\" class=\"dataframe\">\n",
              "  <thead>\n",
              "    <tr style=\"text-align: right;\">\n",
              "      <th></th>\n",
              "      <th>Ulasan</th>\n",
              "      <th>Atraksi</th>\n",
              "      <th>Amenitas</th>\n",
              "      <th>Aksesbilitas</th>\n",
              "    </tr>\n",
              "  </thead>\n",
              "  <tbody>\n",
              "    <tr>\n",
              "      <th>0</th>\n",
              "      <td>[lokasi, mandi, air, panas, wajib, kunjung, bi...</td>\n",
              "      <td>Non Aspek</td>\n",
              "      <td>Positif</td>\n",
              "      <td>Non Aspek</td>\n",
              "    </tr>\n",
              "    <tr>\n",
              "      <th>1</th>\n",
              "      <td>[kolam, mandi, warung, masing, ukur, xm, harga...</td>\n",
              "      <td>Non Aspek</td>\n",
              "      <td>Positif</td>\n",
              "      <td>Non Aspek</td>\n",
              "    </tr>\n",
              "    <tr>\n",
              "      <th>2</th>\n",
              "      <td>[tempat, cukup, bagus, pandang, alam, danau, t...</td>\n",
              "      <td>Positif</td>\n",
              "      <td>Positif</td>\n",
              "      <td>Non Aspek</td>\n",
              "    </tr>\n",
              "    <tr>\n",
              "      <th>3</th>\n",
              "      <td>[aek, rangat, pangururan, air, hangat, letak, ...</td>\n",
              "      <td>Positif</td>\n",
              "      <td>Positif</td>\n",
              "      <td>Negatif</td>\n",
              "    </tr>\n",
              "    <tr>\n",
              "      <th>4</th>\n",
              "      <td>[air, panas, memang, panas, cium, bau, beleran...</td>\n",
              "      <td>Negatif</td>\n",
              "      <td>Negatif</td>\n",
              "      <td>Non Aspek</td>\n",
              "    </tr>\n",
              "    <tr>\n",
              "      <th>...</th>\n",
              "      <td>...</td>\n",
              "      <td>...</td>\n",
              "      <td>...</td>\n",
              "      <td>...</td>\n",
              "    </tr>\n",
              "    <tr>\n",
              "      <th>995</th>\n",
              "      <td>[keren, banget, sembuh, diri, jalan, bagus]</td>\n",
              "      <td>Positif</td>\n",
              "      <td>Non Aspek</td>\n",
              "      <td>Positif</td>\n",
              "    </tr>\n",
              "    <tr>\n",
              "      <th>996</th>\n",
              "      <td>[tiket, masuk, lima, ribu, rupiah, per, orang,...</td>\n",
              "      <td>Non Aspek</td>\n",
              "      <td>Positif</td>\n",
              "      <td>Non Aspek</td>\n",
              "    </tr>\n",
              "    <tr>\n",
              "      <th>997</th>\n",
              "      <td>[jalan, luar, biasa, pandang, bagus, panjang, ...</td>\n",
              "      <td>Positif</td>\n",
              "      <td>Negatif</td>\n",
              "      <td>Positif</td>\n",
              "    </tr>\n",
              "    <tr>\n",
              "      <th>998</th>\n",
              "      <td>[keren, sidamanik, sini, nyesel, cape, emang, ...</td>\n",
              "      <td>Positif</td>\n",
              "      <td>Positif</td>\n",
              "      <td>Negatif</td>\n",
              "    </tr>\n",
              "    <tr>\n",
              "      <th>999</th>\n",
              "      <td>[baikrental, mobil, wilayah, medan, ig, aldire...</td>\n",
              "      <td>Non Aspek</td>\n",
              "      <td>Non Aspek</td>\n",
              "      <td>Non Aspek</td>\n",
              "    </tr>\n",
              "  </tbody>\n",
              "</table>\n",
              "<p>1000 rows × 4 columns</p>\n",
              "</div>\n",
              "    <div class=\"colab-df-buttons\">\n",
              "\n",
              "  <div class=\"colab-df-container\">\n",
              "    <button class=\"colab-df-convert\" onclick=\"convertToInteractive('df-71865bfa-93e0-400e-8d8d-579e4bab7944')\"\n",
              "            title=\"Convert this dataframe to an interactive table.\"\n",
              "            style=\"display:none;\">\n",
              "\n",
              "  <svg xmlns=\"http://www.w3.org/2000/svg\" height=\"24px\" viewBox=\"0 -960 960 960\">\n",
              "    <path d=\"M120-120v-720h720v720H120Zm60-500h600v-160H180v160Zm220 220h160v-160H400v160Zm0 220h160v-160H400v160ZM180-400h160v-160H180v160Zm440 0h160v-160H620v160ZM180-180h160v-160H180v160Zm440 0h160v-160H620v160Z\"/>\n",
              "  </svg>\n",
              "    </button>\n",
              "\n",
              "  <style>\n",
              "    .colab-df-container {\n",
              "      display:flex;\n",
              "      gap: 12px;\n",
              "    }\n",
              "\n",
              "    .colab-df-convert {\n",
              "      background-color: #E8F0FE;\n",
              "      border: none;\n",
              "      border-radius: 50%;\n",
              "      cursor: pointer;\n",
              "      display: none;\n",
              "      fill: #1967D2;\n",
              "      height: 32px;\n",
              "      padding: 0 0 0 0;\n",
              "      width: 32px;\n",
              "    }\n",
              "\n",
              "    .colab-df-convert:hover {\n",
              "      background-color: #E2EBFA;\n",
              "      box-shadow: 0px 1px 2px rgba(60, 64, 67, 0.3), 0px 1px 3px 1px rgba(60, 64, 67, 0.15);\n",
              "      fill: #174EA6;\n",
              "    }\n",
              "\n",
              "    .colab-df-buttons div {\n",
              "      margin-bottom: 4px;\n",
              "    }\n",
              "\n",
              "    [theme=dark] .colab-df-convert {\n",
              "      background-color: #3B4455;\n",
              "      fill: #D2E3FC;\n",
              "    }\n",
              "\n",
              "    [theme=dark] .colab-df-convert:hover {\n",
              "      background-color: #434B5C;\n",
              "      box-shadow: 0px 1px 3px 1px rgba(0, 0, 0, 0.15);\n",
              "      filter: drop-shadow(0px 1px 2px rgba(0, 0, 0, 0.3));\n",
              "      fill: #FFFFFF;\n",
              "    }\n",
              "  </style>\n",
              "\n",
              "    <script>\n",
              "      const buttonEl =\n",
              "        document.querySelector('#df-71865bfa-93e0-400e-8d8d-579e4bab7944 button.colab-df-convert');\n",
              "      buttonEl.style.display =\n",
              "        google.colab.kernel.accessAllowed ? 'block' : 'none';\n",
              "\n",
              "      async function convertToInteractive(key) {\n",
              "        const element = document.querySelector('#df-71865bfa-93e0-400e-8d8d-579e4bab7944');\n",
              "        const dataTable =\n",
              "          await google.colab.kernel.invokeFunction('convertToInteractive',\n",
              "                                                    [key], {});\n",
              "        if (!dataTable) return;\n",
              "\n",
              "        const docLinkHtml = 'Like what you see? Visit the ' +\n",
              "          '<a target=\"_blank\" href=https://colab.research.google.com/notebooks/data_table.ipynb>data table notebook</a>'\n",
              "          + ' to learn more about interactive tables.';\n",
              "        element.innerHTML = '';\n",
              "        dataTable['output_type'] = 'display_data';\n",
              "        await google.colab.output.renderOutput(dataTable, element);\n",
              "        const docLink = document.createElement('div');\n",
              "        docLink.innerHTML = docLinkHtml;\n",
              "        element.appendChild(docLink);\n",
              "      }\n",
              "    </script>\n",
              "  </div>\n",
              "\n",
              "\n",
              "<div id=\"df-1b57c44a-18d5-47f8-81cc-108833c1456e\">\n",
              "  <button class=\"colab-df-quickchart\" onclick=\"quickchart('df-1b57c44a-18d5-47f8-81cc-108833c1456e')\"\n",
              "            title=\"Suggest charts\"\n",
              "            style=\"display:none;\">\n",
              "\n",
              "<svg xmlns=\"http://www.w3.org/2000/svg\" height=\"24px\"viewBox=\"0 0 24 24\"\n",
              "     width=\"24px\">\n",
              "    <g>\n",
              "        <path d=\"M19 3H5c-1.1 0-2 .9-2 2v14c0 1.1.9 2 2 2h14c1.1 0 2-.9 2-2V5c0-1.1-.9-2-2-2zM9 17H7v-7h2v7zm4 0h-2V7h2v10zm4 0h-2v-4h2v4z\"/>\n",
              "    </g>\n",
              "</svg>\n",
              "  </button>\n",
              "\n",
              "<style>\n",
              "  .colab-df-quickchart {\n",
              "      --bg-color: #E8F0FE;\n",
              "      --fill-color: #1967D2;\n",
              "      --hover-bg-color: #E2EBFA;\n",
              "      --hover-fill-color: #174EA6;\n",
              "      --disabled-fill-color: #AAA;\n",
              "      --disabled-bg-color: #DDD;\n",
              "  }\n",
              "\n",
              "  [theme=dark] .colab-df-quickchart {\n",
              "      --bg-color: #3B4455;\n",
              "      --fill-color: #D2E3FC;\n",
              "      --hover-bg-color: #434B5C;\n",
              "      --hover-fill-color: #FFFFFF;\n",
              "      --disabled-bg-color: #3B4455;\n",
              "      --disabled-fill-color: #666;\n",
              "  }\n",
              "\n",
              "  .colab-df-quickchart {\n",
              "    background-color: var(--bg-color);\n",
              "    border: none;\n",
              "    border-radius: 50%;\n",
              "    cursor: pointer;\n",
              "    display: none;\n",
              "    fill: var(--fill-color);\n",
              "    height: 32px;\n",
              "    padding: 0;\n",
              "    width: 32px;\n",
              "  }\n",
              "\n",
              "  .colab-df-quickchart:hover {\n",
              "    background-color: var(--hover-bg-color);\n",
              "    box-shadow: 0 1px 2px rgba(60, 64, 67, 0.3), 0 1px 3px 1px rgba(60, 64, 67, 0.15);\n",
              "    fill: var(--button-hover-fill-color);\n",
              "  }\n",
              "\n",
              "  .colab-df-quickchart-complete:disabled,\n",
              "  .colab-df-quickchart-complete:disabled:hover {\n",
              "    background-color: var(--disabled-bg-color);\n",
              "    fill: var(--disabled-fill-color);\n",
              "    box-shadow: none;\n",
              "  }\n",
              "\n",
              "  .colab-df-spinner {\n",
              "    border: 2px solid var(--fill-color);\n",
              "    border-color: transparent;\n",
              "    border-bottom-color: var(--fill-color);\n",
              "    animation:\n",
              "      spin 1s steps(1) infinite;\n",
              "  }\n",
              "\n",
              "  @keyframes spin {\n",
              "    0% {\n",
              "      border-color: transparent;\n",
              "      border-bottom-color: var(--fill-color);\n",
              "      border-left-color: var(--fill-color);\n",
              "    }\n",
              "    20% {\n",
              "      border-color: transparent;\n",
              "      border-left-color: var(--fill-color);\n",
              "      border-top-color: var(--fill-color);\n",
              "    }\n",
              "    30% {\n",
              "      border-color: transparent;\n",
              "      border-left-color: var(--fill-color);\n",
              "      border-top-color: var(--fill-color);\n",
              "      border-right-color: var(--fill-color);\n",
              "    }\n",
              "    40% {\n",
              "      border-color: transparent;\n",
              "      border-right-color: var(--fill-color);\n",
              "      border-top-color: var(--fill-color);\n",
              "    }\n",
              "    60% {\n",
              "      border-color: transparent;\n",
              "      border-right-color: var(--fill-color);\n",
              "    }\n",
              "    80% {\n",
              "      border-color: transparent;\n",
              "      border-right-color: var(--fill-color);\n",
              "      border-bottom-color: var(--fill-color);\n",
              "    }\n",
              "    90% {\n",
              "      border-color: transparent;\n",
              "      border-bottom-color: var(--fill-color);\n",
              "    }\n",
              "  }\n",
              "</style>\n",
              "\n",
              "  <script>\n",
              "    async function quickchart(key) {\n",
              "      const quickchartButtonEl =\n",
              "        document.querySelector('#' + key + ' button');\n",
              "      quickchartButtonEl.disabled = true;  // To prevent multiple clicks.\n",
              "      quickchartButtonEl.classList.add('colab-df-spinner');\n",
              "      try {\n",
              "        const charts = await google.colab.kernel.invokeFunction(\n",
              "            'suggestCharts', [key], {});\n",
              "      } catch (error) {\n",
              "        console.error('Error during call to suggestCharts:', error);\n",
              "      }\n",
              "      quickchartButtonEl.classList.remove('colab-df-spinner');\n",
              "      quickchartButtonEl.classList.add('colab-df-quickchart-complete');\n",
              "    }\n",
              "    (() => {\n",
              "      let quickchartButtonEl =\n",
              "        document.querySelector('#df-1b57c44a-18d5-47f8-81cc-108833c1456e button');\n",
              "      quickchartButtonEl.style.display =\n",
              "        google.colab.kernel.accessAllowed ? 'block' : 'none';\n",
              "    })();\n",
              "  </script>\n",
              "</div>\n",
              "    </div>\n",
              "  </div>\n"
            ]
          },
          "metadata": {},
          "execution_count": 18
        }
      ]
    },
    {
      "cell_type": "code",
      "source": [
        "X = hasilprapro['Ulasan']\n",
        "y = hasilprapro.drop(['Ulasan'], axis=1)"
      ],
      "metadata": {
        "id": "-AjMWZuUV2Bu"
      },
      "execution_count": null,
      "outputs": []
    },
    {
      "cell_type": "code",
      "source": [
        "count1 = y['Amenitas'].value_counts()\n",
        "count2 = y['Atraksi'].value_counts()\n",
        "count3 = y['Aksesbilitas'].value_counts()\n",
        "print(\"Count Amenitas:\")\n",
        "print(count1)\n",
        "print(\"\\n-----\\n\")\n",
        "print(\"Count Atraksi:\")\n",
        "print(count2)\n",
        "print(\"\\n-----\\n\")\n",
        "print(\"Count Aksesbilitas:\")\n",
        "print(count3)"
      ],
      "metadata": {
        "colab": {
          "base_uri": "https://localhost:8080/"
        },
        "id": "82c5nq07W8XV",
        "outputId": "acac2d13-b643-4d81-efde-dc064bb39293"
      },
      "execution_count": null,
      "outputs": [
        {
          "output_type": "stream",
          "name": "stdout",
          "text": [
            "Count Amenitas:\n",
            "Non Aspek    515\n",
            "Positif      295\n",
            "Negatif      190\n",
            "Name: Amenitas, dtype: int64\n",
            "\n",
            "-----\n",
            "\n",
            "Count Atraksi:\n",
            "Positif      712\n",
            "Non Aspek    255\n",
            "Negatif       33\n",
            "Name: Atraksi, dtype: int64\n",
            "\n",
            "-----\n",
            "\n",
            "Count Aksesbilitas:\n",
            "Non Aspek    793\n",
            "Positif      112\n",
            "Negatif       95\n",
            "Name: Aksesbilitas, dtype: int64\n"
          ]
        }
      ]
    },
    {
      "cell_type": "markdown",
      "source": [
        "Splitting"
      ],
      "metadata": {
        "id": "9V3_0Oxg7hn6"
      }
    },
    {
      "cell_type": "code",
      "source": [
        "X_train, X_test, y_train, y_test = train_test_split(X, y, test_size=0.2, random_state=42)"
      ],
      "metadata": {
        "id": "UnIIOK1L7ivy"
      },
      "execution_count": null,
      "outputs": []
    },
    {
      "cell_type": "markdown",
      "source": [
        "TF-IDF"
      ],
      "metadata": {
        "id": "_EGdqQPT7VxB"
      }
    },
    {
      "cell_type": "code",
      "source": [
        "vectorizer = TfidfVectorizer()\n",
        "\n",
        "X_train_tfidf = vectorizer.fit_transform(X_train.astype(str))\n",
        "X_test_tfidf = vectorizer.transform(X_test.astype(str))\n",
        "\n",
        "X_train = pd.DataFrame(X_train_tfidf.toarray(), columns = vectorizer.get_feature_names_out())\n",
        "X_test = pd.DataFrame(X_test_tfidf.toarray(), columns = vectorizer.get_feature_names_out())\n",
        "print(X_train)"
      ],
      "metadata": {
        "colab": {
          "base_uri": "https://localhost:8080/"
        },
        "id": "WWNH_I_f7XDn",
        "outputId": "09937ddc-ad91-4e63-f2d4-4db7be274b2a"
      },
      "execution_count": null,
      "outputs": [
        {
          "output_type": "stream",
          "name": "stdout",
          "text": [
            "     aamiin  abadi  abis  acara  aceh       ada  adab  adakan  adalah  adapun  \\\n",
            "0       0.0    0.0   0.0    0.0   0.0  0.000000   0.0     0.0     0.0     0.0   \n",
            "1       0.0    0.0   0.0    0.0   0.0  0.000000   0.0     0.0     0.0     0.0   \n",
            "2       0.0    0.0   0.0    0.0   0.0  0.000000   0.0     0.0     0.0     0.0   \n",
            "3       0.0    0.0   0.0    0.0   0.0  0.141965   0.0     0.0     0.0     0.0   \n",
            "4       0.0    0.0   0.0    0.0   0.0  0.000000   0.0     0.0     0.0     0.0   \n",
            "..      ...    ...   ...    ...   ...       ...   ...     ...     ...     ...   \n",
            "795     0.0    0.0   0.0    0.0   0.0  0.198391   0.0     0.0     0.0     0.0   \n",
            "796     0.0    0.0   0.0    0.0   0.0  0.000000   0.0     0.0     0.0     0.0   \n",
            "797     0.0    0.0   0.0    0.0   0.0  0.140977   0.0     0.0     0.0     0.0   \n",
            "798     0.0    0.0   0.0    0.0   0.0  0.000000   0.0     0.0     0.0     0.0   \n",
            "799     0.0    0.0   0.0    0.0   0.0  0.000000   0.0     0.0     0.0     0.0   \n",
            "\n",
            "     ...  yaah  yah  yahya  yakin  yakni      yang  yatiket  yesus  zaman  \\\n",
            "0    ...   0.0  0.0    0.0    0.0    0.0  0.000000      0.0    0.0    0.0   \n",
            "1    ...   0.0  0.0    0.0    0.0    0.0  0.000000      0.0    0.0    0.0   \n",
            "2    ...   0.0  0.0    0.0    0.0    0.0  0.000000      0.0    0.0    0.0   \n",
            "3    ...   0.0  0.0    0.0    0.0    0.0  0.000000      0.0    0.0    0.0   \n",
            "4    ...   0.0  0.0    0.0    0.0    0.0  0.000000      0.0    0.0    0.0   \n",
            "..   ...   ...  ...    ...    ...    ...       ...      ...    ...    ...   \n",
            "795  ...   0.0  0.0    0.0    0.0    0.0  0.263993      0.0    0.0    0.0   \n",
            "796  ...   0.0  0.0    0.0    0.0    0.0  0.000000      0.0    0.0    0.0   \n",
            "797  ...   0.0  0.0    0.0    0.0    0.0  0.000000      0.0    0.0    0.0   \n",
            "798  ...   0.0  0.0    0.0    0.0    0.0  0.000000      0.0    0.0    0.0   \n",
            "799  ...   0.0  0.0    0.0    0.0    0.0  0.000000      0.0    0.0    0.0   \n",
            "\n",
            "     zina  \n",
            "0     0.0  \n",
            "1     0.0  \n",
            "2     0.0  \n",
            "3     0.0  \n",
            "4     0.0  \n",
            "..    ...  \n",
            "795   0.0  \n",
            "796   0.0  \n",
            "797   0.0  \n",
            "798   0.0  \n",
            "799   0.0  \n",
            "\n",
            "[800 rows x 2065 columns]\n"
          ]
        }
      ]
    },
    {
      "cell_type": "code",
      "source": [
        "print(X_test)"
      ],
      "metadata": {
        "colab": {
          "base_uri": "https://localhost:8080/"
        },
        "id": "3BJo4R4F90sr",
        "outputId": "ef35fd91-ad33-46ae-e596-b291336ba592"
      },
      "execution_count": null,
      "outputs": [
        {
          "output_type": "stream",
          "name": "stdout",
          "text": [
            "     aamiin  abadi  abis  acara  aceh       ada  adab  adakan  adalah  adapun  \\\n",
            "0       0.0    0.0   0.0    0.0   0.0  0.000000   0.0     0.0     0.0     0.0   \n",
            "1       0.0    0.0   0.0    0.0   0.0  0.000000   0.0     0.0     0.0     0.0   \n",
            "2       0.0    0.0   0.0    0.0   0.0  0.000000   0.0     0.0     0.0     0.0   \n",
            "3       0.0    0.0   0.0    0.0   0.0  0.000000   0.0     0.0     0.0     0.0   \n",
            "4       0.0    0.0   0.0    0.0   0.0  0.000000   0.0     0.0     0.0     0.0   \n",
            "..      ...    ...   ...    ...   ...       ...   ...     ...     ...     ...   \n",
            "195     0.0    0.0   0.0    0.0   0.0  0.000000   0.0     0.0     0.0     0.0   \n",
            "196     0.0    0.0   0.0    0.0   0.0  0.108185   0.0     0.0     0.0     0.0   \n",
            "197     0.0    0.0   0.0    0.0   0.0  0.000000   0.0     0.0     0.0     0.0   \n",
            "198     0.0    0.0   0.0    0.0   0.0  0.000000   0.0     0.0     0.0     0.0   \n",
            "199     0.0    0.0   0.0    0.0   0.0  0.000000   0.0     0.0     0.0     0.0   \n",
            "\n",
            "     ...  yaah  yah  yahya  yakin  yakni      yang   yatiket  yesus  zaman  \\\n",
            "0    ...   0.0  0.0    0.0    0.0    0.0  0.000000  0.000000    0.0    0.0   \n",
            "1    ...   0.0  0.0    0.0    0.0    0.0  0.000000  0.000000    0.0    0.0   \n",
            "2    ...   0.0  0.0    0.0    0.0    0.0  0.000000  0.000000    0.0    0.0   \n",
            "3    ...   0.0  0.0    0.0    0.0    0.0  0.000000  0.000000    0.0    0.0   \n",
            "4    ...   0.0  0.0    0.0    0.0    0.0  0.000000  0.000000    0.0    0.0   \n",
            "..   ...   ...  ...    ...    ...    ...       ...       ...    ...    ...   \n",
            "195  ...   0.0  0.0    0.0    0.0    0.0  0.000000  0.000000    0.0    0.0   \n",
            "196  ...   0.0  0.0    0.0    0.0    0.0  0.000000  0.000000    0.0    0.0   \n",
            "197  ...   0.0  0.0    0.0    0.0    0.0  0.000000  0.226004    0.0    0.0   \n",
            "198  ...   0.0  0.0    0.0    0.0    0.0  0.196795  0.000000    0.0    0.0   \n",
            "199  ...   0.0  0.0    0.0    0.0    0.0  0.000000  0.000000    0.0    0.0   \n",
            "\n",
            "     zina  \n",
            "0     0.0  \n",
            "1     0.0  \n",
            "2     0.0  \n",
            "3     0.0  \n",
            "4     0.0  \n",
            "..    ...  \n",
            "195   0.0  \n",
            "196   0.0  \n",
            "197   0.0  \n",
            "198   0.0  \n",
            "199   0.0  \n",
            "\n",
            "[200 rows x 2065 columns]\n"
          ]
        }
      ]
    },
    {
      "cell_type": "markdown",
      "source": [
        "KNN"
      ],
      "metadata": {
        "id": "7XgHJu5--kgG"
      }
    },
    {
      "cell_type": "code",
      "source": [
        "from sklearn.multioutput import MultiOutputClassifier\n",
        "knn_model = MultiOutputClassifier(KNeighborsClassifier(n_neighbors=3))\n",
        "knn_model.fit(X_train, y_train)"
      ],
      "metadata": {
        "colab": {
          "base_uri": "https://localhost:8080/"
        },
        "id": "mH5ITVZk93l4",
        "outputId": "2c96f343-f7b0-4d6b-8ced-79b82882e4dd"
      },
      "execution_count": null,
      "outputs": [
        {
          "output_type": "execute_result",
          "data": {
            "text/plain": [
              "MultiOutputClassifier(estimator=KNeighborsClassifier(n_neighbors=3))"
            ],
            "text/html": [
              "<style>#sk-container-id-1 {color: black;background-color: white;}#sk-container-id-1 pre{padding: 0;}#sk-container-id-1 div.sk-toggleable {background-color: white;}#sk-container-id-1 label.sk-toggleable__label {cursor: pointer;display: block;width: 100%;margin-bottom: 0;padding: 0.3em;box-sizing: border-box;text-align: center;}#sk-container-id-1 label.sk-toggleable__label-arrow:before {content: \"▸\";float: left;margin-right: 0.25em;color: #696969;}#sk-container-id-1 label.sk-toggleable__label-arrow:hover:before {color: black;}#sk-container-id-1 div.sk-estimator:hover label.sk-toggleable__label-arrow:before {color: black;}#sk-container-id-1 div.sk-toggleable__content {max-height: 0;max-width: 0;overflow: hidden;text-align: left;background-color: #f0f8ff;}#sk-container-id-1 div.sk-toggleable__content pre {margin: 0.2em;color: black;border-radius: 0.25em;background-color: #f0f8ff;}#sk-container-id-1 input.sk-toggleable__control:checked~div.sk-toggleable__content {max-height: 200px;max-width: 100%;overflow: auto;}#sk-container-id-1 input.sk-toggleable__control:checked~label.sk-toggleable__label-arrow:before {content: \"▾\";}#sk-container-id-1 div.sk-estimator input.sk-toggleable__control:checked~label.sk-toggleable__label {background-color: #d4ebff;}#sk-container-id-1 div.sk-label input.sk-toggleable__control:checked~label.sk-toggleable__label {background-color: #d4ebff;}#sk-container-id-1 input.sk-hidden--visually {border: 0;clip: rect(1px 1px 1px 1px);clip: rect(1px, 1px, 1px, 1px);height: 1px;margin: -1px;overflow: hidden;padding: 0;position: absolute;width: 1px;}#sk-container-id-1 div.sk-estimator {font-family: monospace;background-color: #f0f8ff;border: 1px dotted black;border-radius: 0.25em;box-sizing: border-box;margin-bottom: 0.5em;}#sk-container-id-1 div.sk-estimator:hover {background-color: #d4ebff;}#sk-container-id-1 div.sk-parallel-item::after {content: \"\";width: 100%;border-bottom: 1px solid gray;flex-grow: 1;}#sk-container-id-1 div.sk-label:hover label.sk-toggleable__label {background-color: #d4ebff;}#sk-container-id-1 div.sk-serial::before {content: \"\";position: absolute;border-left: 1px solid gray;box-sizing: border-box;top: 0;bottom: 0;left: 50%;z-index: 0;}#sk-container-id-1 div.sk-serial {display: flex;flex-direction: column;align-items: center;background-color: white;padding-right: 0.2em;padding-left: 0.2em;position: relative;}#sk-container-id-1 div.sk-item {position: relative;z-index: 1;}#sk-container-id-1 div.sk-parallel {display: flex;align-items: stretch;justify-content: center;background-color: white;position: relative;}#sk-container-id-1 div.sk-item::before, #sk-container-id-1 div.sk-parallel-item::before {content: \"\";position: absolute;border-left: 1px solid gray;box-sizing: border-box;top: 0;bottom: 0;left: 50%;z-index: -1;}#sk-container-id-1 div.sk-parallel-item {display: flex;flex-direction: column;z-index: 1;position: relative;background-color: white;}#sk-container-id-1 div.sk-parallel-item:first-child::after {align-self: flex-end;width: 50%;}#sk-container-id-1 div.sk-parallel-item:last-child::after {align-self: flex-start;width: 50%;}#sk-container-id-1 div.sk-parallel-item:only-child::after {width: 0;}#sk-container-id-1 div.sk-dashed-wrapped {border: 1px dashed gray;margin: 0 0.4em 0.5em 0.4em;box-sizing: border-box;padding-bottom: 0.4em;background-color: white;}#sk-container-id-1 div.sk-label label {font-family: monospace;font-weight: bold;display: inline-block;line-height: 1.2em;}#sk-container-id-1 div.sk-label-container {text-align: center;}#sk-container-id-1 div.sk-container {/* jupyter's `normalize.less` sets `[hidden] { display: none; }` but bootstrap.min.css set `[hidden] { display: none !important; }` so we also need the `!important` here to be able to override the default hidden behavior on the sphinx rendered scikit-learn.org. See: https://github.com/scikit-learn/scikit-learn/issues/21755 */display: inline-block !important;position: relative;}#sk-container-id-1 div.sk-text-repr-fallback {display: none;}</style><div id=\"sk-container-id-1\" class=\"sk-top-container\"><div class=\"sk-text-repr-fallback\"><pre>MultiOutputClassifier(estimator=KNeighborsClassifier(n_neighbors=3))</pre><b>In a Jupyter environment, please rerun this cell to show the HTML representation or trust the notebook. <br />On GitHub, the HTML representation is unable to render, please try loading this page with nbviewer.org.</b></div><div class=\"sk-container\" hidden><div class=\"sk-item sk-dashed-wrapped\"><div class=\"sk-label-container\"><div class=\"sk-label sk-toggleable\"><input class=\"sk-toggleable__control sk-hidden--visually\" id=\"sk-estimator-id-1\" type=\"checkbox\" ><label for=\"sk-estimator-id-1\" class=\"sk-toggleable__label sk-toggleable__label-arrow\">MultiOutputClassifier</label><div class=\"sk-toggleable__content\"><pre>MultiOutputClassifier(estimator=KNeighborsClassifier(n_neighbors=3))</pre></div></div></div><div class=\"sk-parallel\"><div class=\"sk-parallel-item\"><div class=\"sk-item\"><div class=\"sk-label-container\"><div class=\"sk-label sk-toggleable\"><input class=\"sk-toggleable__control sk-hidden--visually\" id=\"sk-estimator-id-2\" type=\"checkbox\" ><label for=\"sk-estimator-id-2\" class=\"sk-toggleable__label sk-toggleable__label-arrow\">estimator: KNeighborsClassifier</label><div class=\"sk-toggleable__content\"><pre>KNeighborsClassifier(n_neighbors=3)</pre></div></div></div><div class=\"sk-serial\"><div class=\"sk-item\"><div class=\"sk-estimator sk-toggleable\"><input class=\"sk-toggleable__control sk-hidden--visually\" id=\"sk-estimator-id-3\" type=\"checkbox\" ><label for=\"sk-estimator-id-3\" class=\"sk-toggleable__label sk-toggleable__label-arrow\">KNeighborsClassifier</label><div class=\"sk-toggleable__content\"><pre>KNeighborsClassifier(n_neighbors=3)</pre></div></div></div></div></div></div></div></div></div></div>"
            ]
          },
          "metadata": {},
          "execution_count": 24
        }
      ]
    },
    {
      "cell_type": "code",
      "source": [
        "y_pred = knn_model.predict(X_test)"
      ],
      "metadata": {
        "id": "jfcaq3F9_IO_"
      },
      "execution_count": null,
      "outputs": []
    },
    {
      "cell_type": "code",
      "source": [
        "y_pred"
      ],
      "metadata": {
        "id": "C4U-rjA-_OaY",
        "colab": {
          "base_uri": "https://localhost:8080/"
        },
        "outputId": "8e004537-ebed-4cdc-9051-63681628770c"
      },
      "execution_count": null,
      "outputs": [
        {
          "output_type": "execute_result",
          "data": {
            "text/plain": [
              "array([['Non Aspek', 'Non Aspek', 'Non Aspek'],\n",
              "       ['Non Aspek', 'Non Aspek', 'Non Aspek'],\n",
              "       ['Non Aspek', 'Non Aspek', 'Non Aspek'],\n",
              "       ['Positif', 'Non Aspek', 'Non Aspek'],\n",
              "       ['Non Aspek', 'Non Aspek', 'Non Aspek'],\n",
              "       ['Positif', 'Non Aspek', 'Non Aspek'],\n",
              "       ['Positif', 'Non Aspek', 'Negatif'],\n",
              "       ['Positif', 'Non Aspek', 'Non Aspek'],\n",
              "       ['Positif', 'Non Aspek', 'Non Aspek'],\n",
              "       ['Non Aspek', 'Non Aspek', 'Non Aspek'],\n",
              "       ['Positif', 'Non Aspek', 'Non Aspek'],\n",
              "       ['Non Aspek', 'Non Aspek', 'Non Aspek'],\n",
              "       ['Positif', 'Non Aspek', 'Non Aspek'],\n",
              "       ['Positif', 'Non Aspek', 'Non Aspek'],\n",
              "       ['Positif', 'Non Aspek', 'Non Aspek'],\n",
              "       ['Non Aspek', 'Non Aspek', 'Non Aspek'],\n",
              "       ['Positif', 'Non Aspek', 'Non Aspek'],\n",
              "       ['Non Aspek', 'Non Aspek', 'Non Aspek'],\n",
              "       ['Non Aspek', 'Non Aspek', 'Non Aspek'],\n",
              "       ['Positif', 'Non Aspek', 'Non Aspek'],\n",
              "       ['Non Aspek', 'Non Aspek', 'Non Aspek'],\n",
              "       ['Non Aspek', 'Non Aspek', 'Non Aspek'],\n",
              "       ['Positif', 'Non Aspek', 'Non Aspek'],\n",
              "       ['Non Aspek', 'Non Aspek', 'Non Aspek'],\n",
              "       ['Positif', 'Non Aspek', 'Non Aspek'],\n",
              "       ['Positif', 'Positif', 'Non Aspek'],\n",
              "       ['Non Aspek', 'Negatif', 'Non Aspek'],\n",
              "       ['Non Aspek', 'Non Aspek', 'Non Aspek'],\n",
              "       ['Non Aspek', 'Non Aspek', 'Positif'],\n",
              "       ['Positif', 'Non Aspek', 'Non Aspek'],\n",
              "       ['Positif', 'Non Aspek', 'Non Aspek'],\n",
              "       ['Non Aspek', 'Non Aspek', 'Non Aspek'],\n",
              "       ['Positif', 'Non Aspek', 'Non Aspek'],\n",
              "       ['Positif', 'Non Aspek', 'Non Aspek'],\n",
              "       ['Non Aspek', 'Positif', 'Non Aspek'],\n",
              "       ['Non Aspek', 'Non Aspek', 'Non Aspek'],\n",
              "       ['Positif', 'Non Aspek', 'Non Aspek'],\n",
              "       ['Positif', 'Non Aspek', 'Non Aspek'],\n",
              "       ['Positif', 'Non Aspek', 'Non Aspek'],\n",
              "       ['Positif', 'Non Aspek', 'Non Aspek'],\n",
              "       ['Non Aspek', 'Non Aspek', 'Non Aspek'],\n",
              "       ['Positif', 'Non Aspek', 'Non Aspek'],\n",
              "       ['Non Aspek', 'Non Aspek', 'Non Aspek'],\n",
              "       ['Positif', 'Non Aspek', 'Non Aspek'],\n",
              "       ['Non Aspek', 'Non Aspek', 'Non Aspek'],\n",
              "       ['Non Aspek', 'Non Aspek', 'Non Aspek'],\n",
              "       ['Non Aspek', 'Non Aspek', 'Non Aspek'],\n",
              "       ['Non Aspek', 'Non Aspek', 'Non Aspek'],\n",
              "       ['Positif', 'Positif', 'Non Aspek'],\n",
              "       ['Positif', 'Non Aspek', 'Non Aspek'],\n",
              "       ['Positif', 'Non Aspek', 'Non Aspek'],\n",
              "       ['Negatif', 'Non Aspek', 'Non Aspek'],\n",
              "       ['Positif', 'Positif', 'Non Aspek'],\n",
              "       ['Non Aspek', 'Non Aspek', 'Non Aspek'],\n",
              "       ['Non Aspek', 'Negatif', 'Non Aspek'],\n",
              "       ['Positif', 'Negatif', 'Non Aspek'],\n",
              "       ['Positif', 'Non Aspek', 'Non Aspek'],\n",
              "       ['Non Aspek', 'Non Aspek', 'Non Aspek'],\n",
              "       ['Positif', 'Non Aspek', 'Non Aspek'],\n",
              "       ['Positif', 'Non Aspek', 'Non Aspek'],\n",
              "       ['Positif', 'Non Aspek', 'Non Aspek'],\n",
              "       ['Non Aspek', 'Non Aspek', 'Non Aspek'],\n",
              "       ['Non Aspek', 'Negatif', 'Non Aspek'],\n",
              "       ['Positif', 'Non Aspek', 'Non Aspek'],\n",
              "       ['Positif', 'Non Aspek', 'Negatif'],\n",
              "       ['Non Aspek', 'Non Aspek', 'Non Aspek'],\n",
              "       ['Positif', 'Non Aspek', 'Non Aspek'],\n",
              "       ['Negatif', 'Non Aspek', 'Non Aspek'],\n",
              "       ['Non Aspek', 'Non Aspek', 'Non Aspek'],\n",
              "       ['Positif', 'Non Aspek', 'Non Aspek'],\n",
              "       ['Positif', 'Non Aspek', 'Non Aspek'],\n",
              "       ['Positif', 'Non Aspek', 'Non Aspek'],\n",
              "       ['Positif', 'Non Aspek', 'Non Aspek'],\n",
              "       ['Positif', 'Non Aspek', 'Non Aspek'],\n",
              "       ['Non Aspek', 'Non Aspek', 'Non Aspek'],\n",
              "       ['Positif', 'Non Aspek', 'Non Aspek'],\n",
              "       ['Positif', 'Non Aspek', 'Non Aspek'],\n",
              "       ['Non Aspek', 'Positif', 'Non Aspek'],\n",
              "       ['Positif', 'Non Aspek', 'Non Aspek'],\n",
              "       ['Positif', 'Non Aspek', 'Non Aspek'],\n",
              "       ['Positif', 'Non Aspek', 'Non Aspek'],\n",
              "       ['Non Aspek', 'Non Aspek', 'Negatif'],\n",
              "       ['Positif', 'Non Aspek', 'Non Aspek'],\n",
              "       ['Non Aspek', 'Non Aspek', 'Non Aspek'],\n",
              "       ['Positif', 'Non Aspek', 'Non Aspek'],\n",
              "       ['Positif', 'Positif', 'Non Aspek'],\n",
              "       ['Positif', 'Non Aspek', 'Non Aspek'],\n",
              "       ['Positif', 'Non Aspek', 'Non Aspek'],\n",
              "       ['Non Aspek', 'Positif', 'Non Aspek'],\n",
              "       ['Positif', 'Non Aspek', 'Non Aspek'],\n",
              "       ['Positif', 'Non Aspek', 'Non Aspek'],\n",
              "       ['Non Aspek', 'Negatif', 'Non Aspek'],\n",
              "       ['Negatif', 'Positif', 'Non Aspek'],\n",
              "       ['Positif', 'Non Aspek', 'Non Aspek'],\n",
              "       ['Positif', 'Non Aspek', 'Non Aspek'],\n",
              "       ['Positif', 'Non Aspek', 'Non Aspek'],\n",
              "       ['Negatif', 'Negatif', 'Non Aspek'],\n",
              "       ['Non Aspek', 'Non Aspek', 'Non Aspek'],\n",
              "       ['Negatif', 'Non Aspek', 'Non Aspek'],\n",
              "       ['Positif', 'Positif', 'Negatif'],\n",
              "       ['Positif', 'Non Aspek', 'Non Aspek'],\n",
              "       ['Positif', 'Non Aspek', 'Non Aspek'],\n",
              "       ['Positif', 'Non Aspek', 'Non Aspek'],\n",
              "       ['Non Aspek', 'Non Aspek', 'Non Aspek'],\n",
              "       ['Positif', 'Non Aspek', 'Non Aspek'],\n",
              "       ['Positif', 'Non Aspek', 'Negatif'],\n",
              "       ['Positif', 'Positif', 'Non Aspek'],\n",
              "       ['Non Aspek', 'Negatif', 'Non Aspek'],\n",
              "       ['Positif', 'Non Aspek', 'Non Aspek'],\n",
              "       ['Positif', 'Non Aspek', 'Non Aspek'],\n",
              "       ['Positif', 'Non Aspek', 'Non Aspek'],\n",
              "       ['Positif', 'Non Aspek', 'Negatif'],\n",
              "       ['Non Aspek', 'Non Aspek', 'Non Aspek'],\n",
              "       ['Non Aspek', 'Non Aspek', 'Non Aspek'],\n",
              "       ['Negatif', 'Non Aspek', 'Non Aspek'],\n",
              "       ['Positif', 'Negatif', 'Non Aspek'],\n",
              "       ['Positif', 'Non Aspek', 'Non Aspek'],\n",
              "       ['Positif', 'Non Aspek', 'Non Aspek'],\n",
              "       ['Non Aspek', 'Positif', 'Non Aspek'],\n",
              "       ['Positif', 'Non Aspek', 'Non Aspek'],\n",
              "       ['Non Aspek', 'Non Aspek', 'Non Aspek'],\n",
              "       ['Non Aspek', 'Positif', 'Negatif'],\n",
              "       ['Non Aspek', 'Non Aspek', 'Non Aspek'],\n",
              "       ['Positif', 'Non Aspek', 'Non Aspek'],\n",
              "       ['Positif', 'Non Aspek', 'Non Aspek'],\n",
              "       ['Non Aspek', 'Non Aspek', 'Non Aspek'],\n",
              "       ['Positif', 'Non Aspek', 'Non Aspek'],\n",
              "       ['Non Aspek', 'Non Aspek', 'Non Aspek'],\n",
              "       ['Positif', 'Non Aspek', 'Non Aspek'],\n",
              "       ['Positif', 'Non Aspek', 'Negatif'],\n",
              "       ['Positif', 'Positif', 'Non Aspek'],\n",
              "       ['Positif', 'Non Aspek', 'Non Aspek'],\n",
              "       ['Non Aspek', 'Non Aspek', 'Non Aspek'],\n",
              "       ['Positif', 'Non Aspek', 'Non Aspek'],\n",
              "       ['Positif', 'Non Aspek', 'Non Aspek'],\n",
              "       ['Non Aspek', 'Non Aspek', 'Non Aspek'],\n",
              "       ['Non Aspek', 'Positif', 'Non Aspek'],\n",
              "       ['Non Aspek', 'Non Aspek', 'Non Aspek'],\n",
              "       ['Non Aspek', 'Negatif', 'Non Aspek'],\n",
              "       ['Non Aspek', 'Positif', 'Non Aspek'],\n",
              "       ['Non Aspek', 'Non Aspek', 'Non Aspek'],\n",
              "       ['Positif', 'Non Aspek', 'Non Aspek'],\n",
              "       ['Positif', 'Non Aspek', 'Non Aspek'],\n",
              "       ['Positif', 'Non Aspek', 'Non Aspek'],\n",
              "       ['Positif', 'Non Aspek', 'Negatif'],\n",
              "       ['Non Aspek', 'Non Aspek', 'Non Aspek'],\n",
              "       ['Non Aspek', 'Non Aspek', 'Non Aspek'],\n",
              "       ['Non Aspek', 'Non Aspek', 'Non Aspek'],\n",
              "       ['Non Aspek', 'Non Aspek', 'Negatif'],\n",
              "       ['Positif', 'Negatif', 'Negatif'],\n",
              "       ['Positif', 'Non Aspek', 'Positif'],\n",
              "       ['Positif', 'Non Aspek', 'Non Aspek'],\n",
              "       ['Positif', 'Non Aspek', 'Positif'],\n",
              "       ['Positif', 'Non Aspek', 'Non Aspek'],\n",
              "       ['Non Aspek', 'Non Aspek', 'Non Aspek'],\n",
              "       ['Positif', 'Negatif', 'Non Aspek'],\n",
              "       ['Positif', 'Negatif', 'Non Aspek'],\n",
              "       ['Positif', 'Non Aspek', 'Non Aspek'],\n",
              "       ['Non Aspek', 'Positif', 'Non Aspek'],\n",
              "       ['Non Aspek', 'Non Aspek', 'Non Aspek'],\n",
              "       ['Non Aspek', 'Non Aspek', 'Non Aspek'],\n",
              "       ['Non Aspek', 'Non Aspek', 'Non Aspek'],\n",
              "       ['Positif', 'Non Aspek', 'Non Aspek'],\n",
              "       ['Non Aspek', 'Negatif', 'Negatif'],\n",
              "       ['Positif', 'Non Aspek', 'Non Aspek'],\n",
              "       ['Non Aspek', 'Non Aspek', 'Non Aspek'],\n",
              "       ['Non Aspek', 'Non Aspek', 'Non Aspek'],\n",
              "       ['Positif', 'Non Aspek', 'Negatif'],\n",
              "       ['Positif', 'Non Aspek', 'Non Aspek'],\n",
              "       ['Non Aspek', 'Non Aspek', 'Non Aspek'],\n",
              "       ['Non Aspek', 'Non Aspek', 'Non Aspek'],\n",
              "       ['Non Aspek', 'Negatif', 'Non Aspek'],\n",
              "       ['Non Aspek', 'Non Aspek', 'Non Aspek'],\n",
              "       ['Positif', 'Negatif', 'Non Aspek'],\n",
              "       ['Non Aspek', 'Non Aspek', 'Non Aspek'],\n",
              "       ['Positif', 'Negatif', 'Non Aspek'],\n",
              "       ['Positif', 'Non Aspek', 'Non Aspek'],\n",
              "       ['Non Aspek', 'Non Aspek', 'Non Aspek'],\n",
              "       ['Non Aspek', 'Non Aspek', 'Non Aspek'],\n",
              "       ['Non Aspek', 'Non Aspek', 'Non Aspek'],\n",
              "       ['Positif', 'Non Aspek', 'Non Aspek'],\n",
              "       ['Non Aspek', 'Positif', 'Non Aspek'],\n",
              "       ['Non Aspek', 'Negatif', 'Non Aspek'],\n",
              "       ['Positif', 'Non Aspek', 'Non Aspek'],\n",
              "       ['Positif', 'Non Aspek', 'Non Aspek'],\n",
              "       ['Positif', 'Negatif', 'Non Aspek'],\n",
              "       ['Non Aspek', 'Non Aspek', 'Non Aspek'],\n",
              "       ['Positif', 'Non Aspek', 'Non Aspek'],\n",
              "       ['Positif', 'Non Aspek', 'Non Aspek'],\n",
              "       ['Positif', 'Non Aspek', 'Non Aspek'],\n",
              "       ['Non Aspek', 'Non Aspek', 'Negatif'],\n",
              "       ['Positif', 'Non Aspek', 'Non Aspek'],\n",
              "       ['Positif', 'Non Aspek', 'Non Aspek'],\n",
              "       ['Non Aspek', 'Non Aspek', 'Non Aspek'],\n",
              "       ['Non Aspek', 'Positif', 'Non Aspek'],\n",
              "       ['Non Aspek', 'Non Aspek', 'Non Aspek'],\n",
              "       ['Positif', 'Non Aspek', 'Non Aspek'],\n",
              "       ['Positif', 'Negatif', 'Non Aspek'],\n",
              "       ['Positif', 'Non Aspek', 'Non Aspek'],\n",
              "       ['Non Aspek', 'Non Aspek', 'Non Aspek']], dtype=object)"
            ]
          },
          "metadata": {},
          "execution_count": 26
        }
      ]
    },
    {
      "cell_type": "code",
      "source": [
        "accuracy_1 = accuracy_score(y_test['Atraksi'], y_pred[:, 0])\n",
        "accuracy_2 = accuracy_score(y_test['Amenitas'], y_pred[:, 1])\n",
        "accuracy_3 = accuracy_score(y_test['Aksesbilitas'], y_pred[:, 2])"
      ],
      "metadata": {
        "id": "7dKzm676_1HS"
      },
      "execution_count": null,
      "outputs": []
    },
    {
      "cell_type": "code",
      "source": [
        "print(\"Accuracy for target1:\", accuracy_1)\n",
        "print(\"Accuracy for target2:\", accuracy_2)\n",
        "print(\"Accuracy for target3:\", accuracy_3)"
      ],
      "metadata": {
        "colab": {
          "base_uri": "https://localhost:8080/"
        },
        "id": "KAM6o8HBATka",
        "outputId": "8b379087-8c5e-4a77-bfa8-90daf82bac0a"
      },
      "execution_count": null,
      "outputs": [
        {
          "output_type": "stream",
          "name": "stdout",
          "text": [
            "Accuracy for target1: 0.61\n",
            "Accuracy for target2: 0.59\n",
            "Accuracy for target3: 0.795\n"
          ]
        }
      ]
    },
    {
      "cell_type": "markdown",
      "source": [
        "Tuning"
      ],
      "metadata": {
        "id": "2DZRzgg6BGZz"
      }
    },
    {
      "cell_type": "code",
      "source": [
        "param_range = np.arange(1, 30)\n",
        "\n",
        "train_scores_Atraksi, test_scores_Atraksi = [], []\n",
        "train_scores_Amenitas, test_scores_Amenitas = [], []\n",
        "train_scores_Aksesbilitas, test_scores_Aksesbilitas = [], []\n",
        "\n",
        "for n_neighbors in param_range:\n",
        "    knn_model = KNeighborsClassifier(n_neighbors=n_neighbors)\n",
        "    multi_knn_model = MultiOutputClassifier(knn_model)\n",
        "\n",
        "    # Train the model\n",
        "    multi_knn_model.fit(X_train, y_train)\n",
        "\n",
        "    # Predict on training set\n",
        "    y_train_pred = multi_knn_model.predict(X_train)\n",
        "    train_accuracy_Atraksi = accuracy_score(y_train['Atraksi'], y_train_pred[:, 0])\n",
        "    train_accuracy_Amenitas = accuracy_score(y_train['Amenitas'], y_train_pred[:, 1])\n",
        "    train_accuracy_Aksesbilitas = accuracy_score(y_train['Aksesbilitas'], y_train_pred[:, 2])\n",
        "\n",
        "    train_scores_Atraksi.append(train_accuracy_Atraksi)\n",
        "    train_scores_Amenitas.append(train_accuracy_Amenitas)\n",
        "    train_scores_Aksesbilitas.append(train_accuracy_Aksesbilitas)\n",
        "\n",
        "    # Predict on test set\n",
        "    y_test_pred = multi_knn_model.predict(X_test)\n",
        "    test_accuracy_Atraksi = accuracy_score(y_test['Atraksi'], y_test_pred[:, 0])\n",
        "    test_accuracy_Amenitas = accuracy_score(y_test['Amenitas'], y_test_pred[:, 1])\n",
        "    test_accuracy_Aksesbilitas = accuracy_score(y_test['Aksesbilitas'], y_test_pred[:, 2])\n",
        "\n",
        "    test_scores_Atraksi.append(test_accuracy_Atraksi)\n",
        "    test_scores_Amenitas.append(test_accuracy_Amenitas)\n",
        "    test_scores_Aksesbilitas.append(test_accuracy_Aksesbilitas)"
      ],
      "metadata": {
        "id": "MbovyVMZDAe3"
      },
      "execution_count": null,
      "outputs": []
    },
    {
      "cell_type": "code",
      "source": [
        "plt.figure(figsize=(18, 6))\n",
        "\n",
        "# Plot Train and Test Accuracy Atraksi\n",
        "plt.subplot(1, 3, 1)\n",
        "plt.plot(param_range, train_scores_Atraksi, label='Train Accuracy Atraksi', marker='o', color='blue')\n",
        "plt.plot(param_range, test_scores_Atraksi, label='Test Accuracy Atraksi', marker='o', linestyle='dashed', color='orange')\n",
        "plt.title('Accuracy for Atraksi')\n",
        "plt.xlabel('Number of Neighbors (k)')\n",
        "plt.ylabel('Accuracy')\n",
        "plt.legend()\n",
        "\n",
        "# Plot Train and Test Accuracy Amenitas\n",
        "plt.subplot(1, 3, 2)\n",
        "plt.plot(param_range, train_scores_Amenitas, label='Train Accuracy Amenitas', marker='o', color='green')\n",
        "plt.plot(param_range, test_scores_Amenitas, label='Test Accuracy Amenitas', marker='o', linestyle='dashed', color='red')\n",
        "plt.title('Accuracy for Amenitas')\n",
        "plt.xlabel('Number of Neighbors (k)')\n",
        "plt.ylabel('Accuracy')\n",
        "plt.legend()\n",
        "\n",
        "# Plot Train and Test Accuracy Aksesbilitas\n",
        "plt.subplot(1, 3, 3)\n",
        "plt.plot(param_range, train_scores_Aksesbilitas, label='Train Accuracy Aksesbilitas', marker='o', color='purple')\n",
        "plt.plot(param_range, test_scores_Aksesbilitas, label='Test Accuracy Aksesbilitas', marker='o', linestyle='dashed', color='brown')\n",
        "plt.title('Accuracy for Aksesbilitas')\n",
        "plt.xlabel('Number of Neighbors (k)')\n",
        "plt.ylabel('Accuracy')\n",
        "plt.legend()\n",
        "\n",
        "plt.tight_layout(rect=[0, 0, 1, 0.96])\n",
        "plt.show()"
      ],
      "metadata": {
        "colab": {
          "base_uri": "https://localhost:8080/"
        },
        "id": "E7AUuy_nEWwl",
        "outputId": "3fa35919-990d-435b-f431-a70941bceabd"
      },
      "execution_count": null,
      "outputs": [
        {
          "output_type": "display_data",
          "data": {
            "text/plain": [
              "<Figure size 1800x600 with 3 Axes>"
            ],
            "image/png": "[encoded data removed]"
          },
          "metadata": {}
        }
      ]
    },
    {
      "cell_type": "markdown",
      "source": [
        "kita bisa lihat bahwa pada tampilan diatas, model paling bagus yaitu pada saat k = 21"
      ],
      "metadata": {
        "id": "B-UXSQyKFt1E"
      }
    },
    {
      "cell_type": "code",
      "source": [
        "model = MultiOutputClassifier(KNeighborsClassifier(n_neighbors=13))\n",
        "model.fit(X_train, y_train)"
      ],
      "metadata": {
        "colab": {
          "base_uri": "https://localhost:8080/",
          "height": 189
        },
        "id": "oa0i48eUGnT8",
        "outputId": "aae5b175-9960-419e-f582-f2ac77fbc0cb"
      },
      "execution_count": null,
      "outputs": [
        {
          "output_type": "execute_result",
          "data": {
            "text/plain": [
              "MultiOutputClassifier(estimator=KNeighborsClassifier(n_neighbors=13))"
            ],
            "text/html": [
              "<style>#sk-container-id-2 {color: black;background-color: white;}#sk-container-id-2 pre{padding: 0;}#sk-container-id-2 div.sk-toggleable {background-color: white;}#sk-container-id-2 label.sk-toggleable__label {cursor: pointer;display: block;width: 100%;margin-bottom: 0;padding: 0.3em;box-sizing: border-box;text-align: center;}#sk-container-id-2 label.sk-toggleable__label-arrow:before {content: \"▸\";float: left;margin-right: 0.25em;color: #696969;}#sk-container-id-2 label.sk-toggleable__label-arrow:hover:before {color: black;}#sk-container-id-2 div.sk-estimator:hover label.sk-toggleable__label-arrow:before {color: black;}#sk-container-id-2 div.sk-toggleable__content {max-height: 0;max-width: 0;overflow: hidden;text-align: left;background-color: #f0f8ff;}#sk-container-id-2 div.sk-toggleable__content pre {margin: 0.2em;color: black;border-radius: 0.25em;background-color: #f0f8ff;}#sk-container-id-2 input.sk-toggleable__control:checked~div.sk-toggleable__content {max-height: 200px;max-width: 100%;overflow: auto;}#sk-container-id-2 input.sk-toggleable__control:checked~label.sk-toggleable__label-arrow:before {content: \"▾\";}#sk-container-id-2 div.sk-estimator input.sk-toggleable__control:checked~label.sk-toggleable__label {background-color: #d4ebff;}#sk-container-id-2 div.sk-label input.sk-toggleable__control:checked~label.sk-toggleable__label {background-color: #d4ebff;}#sk-container-id-2 input.sk-hidden--visually {border: 0;clip: rect(1px 1px 1px 1px);clip: rect(1px, 1px, 1px, 1px);height: 1px;margin: -1px;overflow: hidden;padding: 0;position: absolute;width: 1px;}#sk-container-id-2 div.sk-estimator {font-family: monospace;background-color: #f0f8ff;border: 1px dotted black;border-radius: 0.25em;box-sizing: border-box;margin-bottom: 0.5em;}#sk-container-id-2 div.sk-estimator:hover {background-color: #d4ebff;}#sk-container-id-2 div.sk-parallel-item::after {content: \"\";width: 100%;border-bottom: 1px solid gray;flex-grow: 1;}#sk-container-id-2 div.sk-label:hover label.sk-toggleable__label {background-color: #d4ebff;}#sk-container-id-2 div.sk-serial::before {content: \"\";position: absolute;border-left: 1px solid gray;box-sizing: border-box;top: 0;bottom: 0;left: 50%;z-index: 0;}#sk-container-id-2 div.sk-serial {display: flex;flex-direction: column;align-items: center;background-color: white;padding-right: 0.2em;padding-left: 0.2em;position: relative;}#sk-container-id-2 div.sk-item {position: relative;z-index: 1;}#sk-container-id-2 div.sk-parallel {display: flex;align-items: stretch;justify-content: center;background-color: white;position: relative;}#sk-container-id-2 div.sk-item::before, #sk-container-id-2 div.sk-parallel-item::before {content: \"\";position: absolute;border-left: 1px solid gray;box-sizing: border-box;top: 0;bottom: 0;left: 50%;z-index: -1;}#sk-container-id-2 div.sk-parallel-item {display: flex;flex-direction: column;z-index: 1;position: relative;background-color: white;}#sk-container-id-2 div.sk-parallel-item:first-child::after {align-self: flex-end;width: 50%;}#sk-container-id-2 div.sk-parallel-item:last-child::after {align-self: flex-start;width: 50%;}#sk-container-id-2 div.sk-parallel-item:only-child::after {width: 0;}#sk-container-id-2 div.sk-dashed-wrapped {border: 1px dashed gray;margin: 0 0.4em 0.5em 0.4em;box-sizing: border-box;padding-bottom: 0.4em;background-color: white;}#sk-container-id-2 div.sk-label label {font-family: monospace;font-weight: bold;display: inline-block;line-height: 1.2em;}#sk-container-id-2 div.sk-label-container {text-align: center;}#sk-container-id-2 div.sk-container {/* jupyter's `normalize.less` sets `[hidden] { display: none; }` but bootstrap.min.css set `[hidden] { display: none !important; }` so we also need the `!important` here to be able to override the default hidden behavior on the sphinx rendered scikit-learn.org. See: https://github.com/scikit-learn/scikit-learn/issues/21755 */display: inline-block !important;position: relative;}#sk-container-id-2 div.sk-text-repr-fallback {display: none;}</style><div id=\"sk-container-id-2\" class=\"sk-top-container\"><div class=\"sk-text-repr-fallback\"><pre>MultiOutputClassifier(estimator=KNeighborsClassifier(n_neighbors=13))</pre><b>In a Jupyter environment, please rerun this cell to show the HTML representation or trust the notebook. <br />On GitHub, the HTML representation is unable to render, please try loading this page with nbviewer.org.</b></div><div class=\"sk-container\" hidden><div class=\"sk-item sk-dashed-wrapped\"><div class=\"sk-label-container\"><div class=\"sk-label sk-toggleable\"><input class=\"sk-toggleable__control sk-hidden--visually\" id=\"sk-estimator-id-4\" type=\"checkbox\" ><label for=\"sk-estimator-id-4\" class=\"sk-toggleable__label sk-toggleable__label-arrow\">MultiOutputClassifier</label><div class=\"sk-toggleable__content\"><pre>MultiOutputClassifier(estimator=KNeighborsClassifier(n_neighbors=13))</pre></div></div></div><div class=\"sk-parallel\"><div class=\"sk-parallel-item\"><div class=\"sk-item\"><div class=\"sk-label-container\"><div class=\"sk-label sk-toggleable\"><input class=\"sk-toggleable__control sk-hidden--visually\" id=\"sk-estimator-id-5\" type=\"checkbox\" ><label for=\"sk-estimator-id-5\" class=\"sk-toggleable__label sk-toggleable__label-arrow\">estimator: KNeighborsClassifier</label><div class=\"sk-toggleable__content\"><pre>KNeighborsClassifier(n_neighbors=13)</pre></div></div></div><div class=\"sk-serial\"><div class=\"sk-item\"><div class=\"sk-estimator sk-toggleable\"><input class=\"sk-toggleable__control sk-hidden--visually\" id=\"sk-estimator-id-6\" type=\"checkbox\" ><label for=\"sk-estimator-id-6\" class=\"sk-toggleable__label sk-toggleable__label-arrow\">KNeighborsClassifier</label><div class=\"sk-toggleable__content\"><pre>KNeighborsClassifier(n_neighbors=13)</pre></div></div></div></div></div></div></div></div></div></div>"
            ]
          },
          "metadata": {},
          "execution_count": 31
        }
      ]
    },
    {
      "cell_type": "code",
      "source": [
        "y_pred = model.predict(X_test)"
      ],
      "metadata": {
        "id": "RwHRa3KgG8fZ"
      },
      "execution_count": null,
      "outputs": []
    },
    {
      "cell_type": "code",
      "source": [
        "accuracy_1 = accuracy_score(y_test['Atraksi'], y_pred[:, 0])\n",
        "accuracy_2 = accuracy_score(y_test['Amenitas'], y_pred[:, 1])\n",
        "accuracy_3 = accuracy_score(y_test['Aksesbilitas'], y_pred[:, 2])"
      ],
      "metadata": {
        "id": "_a9_6TlgG8fZ"
      },
      "execution_count": null,
      "outputs": []
    },
    {
      "cell_type": "code",
      "source": [
        "print(\"Accuracy for Atraksi:\", accuracy_1)\n",
        "print(\"Accuracy for Amenitas:\", accuracy_2)\n",
        "print(\"Accuracy for Aksesbilitas:\", accuracy_3)"
      ],
      "metadata": {
        "colab": {
          "base_uri": "https://localhost:8080/"
        },
        "outputId": "c15165cd-7c17-40fc-a011-c3bc01403cfd",
        "id": "Q-J5RssJG8fa"
      },
      "execution_count": null,
      "outputs": [
        {
          "output_type": "stream",
          "name": "stdout",
          "text": [
            "Accuracy for Atraksi: 0.805\n",
            "Accuracy for Amenitas: 0.665\n",
            "Accuracy for Aksesbilitas: 0.81\n"
          ]
        }
      ]
    }
  ]
}